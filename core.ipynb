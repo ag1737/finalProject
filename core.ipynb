{
 "cells": [
  {
   "cell_type": "code",
   "execution_count": 118,
   "metadata": {
    "collapsed": true
   },
   "outputs": [],
   "source": [
    "import pandas as pd\n",
    "import numpy as np\n",
    "import json"
   ]
  },
  {
   "cell_type": "code",
   "execution_count": 124,
   "outputs": [],
   "source": [
    "f = open('5492147125.json')"
   ],
   "metadata": {
    "collapsed": false,
    "pycharm": {
     "name": "#%%\n"
    }
   }
  },
  {
   "cell_type": "code",
   "execution_count": 125,
   "outputs": [],
   "source": [
    "raw_data = json.load(f)"
   ],
   "metadata": {
    "collapsed": false,
    "pycharm": {
     "name": "#%%\n"
    }
   }
  },
  {
   "cell_type": "code",
   "execution_count": 135,
   "outputs": [
    {
     "ename": "TypeError",
     "evalue": "list indices must be integers or slices, not str",
     "output_type": "error",
     "traceback": [
      "\u001B[1;31m---------------------------------------------------------------------------\u001B[0m",
      "\u001B[1;31mTypeError\u001B[0m                                 Traceback (most recent call last)",
      "\u001B[1;32m~\\AppData\\Local\\Temp/ipykernel_10772/2699053248.py\u001B[0m in \u001B[0;36m<module>\u001B[1;34m\u001B[0m\n\u001B[1;32m----> 1\u001B[1;33m \u001B[1;32mfor\u001B[0m \u001B[0mkey\u001B[0m \u001B[1;32min\u001B[0m \u001B[0mraw_data\u001B[0m\u001B[1;33m[\u001B[0m\u001B[1;34m\"frames\"\u001B[0m\u001B[1;33m]\u001B[0m\u001B[1;33m[\u001B[0m\u001B[1;36m1\u001B[0m\u001B[1;33m:\u001B[0m\u001B[1;33m]\u001B[0m\u001B[1;33m[\u001B[0m\u001B[1;34m\"Events\"\u001B[0m\u001B[1;33m]\u001B[0m\u001B[1;33m:\u001B[0m\u001B[1;33m\u001B[0m\u001B[1;33m\u001B[0m\u001B[0m\n\u001B[0m\u001B[0;32m      2\u001B[0m     \u001B[0mprint\u001B[0m\u001B[1;33m(\u001B[0m\u001B[0mkey\u001B[0m\u001B[1;33m)\u001B[0m\u001B[1;33m\u001B[0m\u001B[1;33m\u001B[0m\u001B[0m\n",
      "\u001B[1;31mTypeError\u001B[0m: list indices must be integers or slices, not str"
     ]
    }
   ],
   "source": [
    "for key in raw_data[\"frames\"][1:][\"Events\"]:\n",
    "    print(key)"
   ],
   "metadata": {
    "collapsed": false,
    "pycharm": {
     "name": "#%%\n"
    }
   }
  },
  {
   "cell_type": "code",
   "execution_count": 127,
   "outputs": [],
   "source": [
    "map_info = raw_data[\"frames\"][0]"
   ],
   "metadata": {
    "collapsed": false,
    "pycharm": {
     "name": "#%%\n"
    }
   }
  },
  {
   "cell_type": "code",
   "execution_count": 128,
   "outputs": [
    {
     "data": {
      "text/plain": "dict_keys(['DataVersion', 'Entities', 'Events'])"
     },
     "execution_count": 128,
     "metadata": {},
     "output_type": "execute_result"
    }
   ],
   "source": [
    "map_info.keys()"
   ],
   "metadata": {
    "collapsed": false,
    "pycharm": {
     "name": "#%%\n"
    }
   }
  },
  {
   "cell_type": "code",
   "execution_count": 129,
   "outputs": [],
   "source": [
    "first_frame = raw_data[\"frames\"][2500][\"Entities\"]"
   ],
   "metadata": {
    "collapsed": false,
    "pycharm": {
     "name": "#%%\n"
    }
   }
  },
  {
   "cell_type": "code",
   "execution_count": 130,
   "outputs": [],
   "source": [
    "df =  pd.DataFrame(first_frame).T"
   ],
   "metadata": {
    "collapsed": false,
    "pycharm": {
     "name": "#%%\n"
    }
   }
  },
  {
   "cell_type": "code",
   "execution_count": 131,
   "outputs": [
    {
     "data": {
      "text/plain": "                  UID     ENTITY_TYPE                    ID  GAME_TIME  \\\n0000000000          0  Dota2MapEntity                   MAP  2509.9282   \n0268435459  268435459  Dota2MapRegion  JUNGLE_RADIANTBOTTOM        NaN   \n0268435463  268435463  Dota2MapRegion           LANE_MIDDLE        NaN   \n0268435466  268435466    PlayerEntity               PLAYER0        NaN   \n0268435467  268435467    PlayerEntity               PLAYER1        NaN   \n0268435468  268435468    PlayerEntity               PLAYER2        NaN   \n0268435469  268435469    PlayerEntity               PLAYER3        NaN   \n0268435470  268435470    PlayerEntity               PLAYER4        NaN   \n0268435471  268435471    PlayerEntity               PLAYER5        NaN   \n0268435472  268435472    PlayerEntity               PLAYER6        NaN   \n0268435473  268435473    PlayerEntity               PLAYER7        NaN   \n0268435474  268435474    PlayerEntity               PLAYER8        NaN   \n0268435475  268435475    PlayerEntity               PLAYER9        NaN   \n0268435556  268435556   AbilityEntity            ABILITY169        NaN   \n0268435558  268435558   AbilityEntity            ABILITY170        NaN   \n0268435561  268435561   AbilityEntity            ABILITY173        NaN   \n0268435583  268435583   AbilityEntity            ABILITY193        NaN   \n0268435634  268435634   AbilityEntity              ABILITY5        NaN   \n0268435650  268435650   AbilityEntity             ABILITY64        NaN   \n0268435652  268435652   AbilityEntity             ABILITY66        NaN   \n0268435723  268435723      HeroEntity                 HERO0        NaN   \n0268435724  268435724      HeroEntity                 HERO1        NaN   \n0268435725  268435725      HeroEntity                 HERO2        NaN   \n0268435726  268435726      HeroEntity                 HERO3        NaN   \n0268435727  268435727      HeroEntity                 HERO4        NaN   \n0268435728  268435728      HeroEntity                 HERO5        NaN   \n0268435729  268435729      HeroEntity                 HERO6        NaN   \n0268435730  268435730      HeroEntity                 HERO7        NaN   \n0268435732  268435732      HeroEntity                 HERO9        NaN   \n0268435743  268435743  ItemSlotEntity        PLAYER0_SLOT16        NaN   \n0268435761  268435761  ItemSlotEntity        PLAYER1_SLOT15        NaN   \n0268435766  268435766  ItemSlotEntity         PLAYER1_SLOT3        NaN   \n0268435780  268435780  ItemSlotEntity        PLAYER2_SLOT15        NaN   \n0268435792  268435792  ItemSlotEntity         PLAYER3_SLOT0        NaN   \n0268435863  268435863  ItemSlotEntity         PLAYER6_SLOT5        NaN   \n0268435913  268435913  ItemSlotEntity        PLAYER9_SLOT15        NaN   \n\n           CLOCK_TIME TIME_IN_PHASE MILLISECONDS_SINCE_GAME_START FRAMEINDEX  \\\n0000000000  1540.2214     1540.2214                     2523000.0       2500   \n0268435459        NaN           NaN                           NaN        NaN   \n0268435463        NaN           NaN                           NaN        NaN   \n0268435466        NaN           NaN                           NaN        NaN   \n0268435467        NaN           NaN                           NaN        NaN   \n0268435468        NaN           NaN                           NaN        NaN   \n0268435469        NaN           NaN                           NaN        NaN   \n0268435470        NaN           NaN                           NaN        NaN   \n0268435471        NaN           NaN                           NaN        NaN   \n0268435472        NaN           NaN                           NaN        NaN   \n0268435473        NaN           NaN                           NaN        NaN   \n0268435474        NaN           NaN                           NaN        NaN   \n0268435475        NaN           NaN                           NaN        NaN   \n0268435556        NaN           NaN                           NaN        NaN   \n0268435558        NaN           NaN                           NaN        NaN   \n0268435561        NaN           NaN                           NaN        NaN   \n0268435583        NaN           NaN                           NaN        NaN   \n0268435634        NaN           NaN                           NaN        NaN   \n0268435650        NaN           NaN                           NaN        NaN   \n0268435652        NaN           NaN                           NaN        NaN   \n0268435723        NaN           NaN                           NaN        NaN   \n0268435724        NaN           NaN                           NaN        NaN   \n0268435725        NaN           NaN                           NaN        NaN   \n0268435726        NaN           NaN                           NaN        NaN   \n0268435727        NaN           NaN                           NaN        NaN   \n0268435728        NaN           NaN                           NaN        NaN   \n0268435729        NaN           NaN                           NaN        NaN   \n0268435730        NaN           NaN                           NaN        NaN   \n0268435732        NaN           NaN                           NaN        NaN   \n0268435743        NaN           NaN                           NaN        NaN   \n0268435761        NaN           NaN                           NaN        NaN   \n0268435766        NaN           NaN                           NaN        NaN   \n0268435780        NaN           NaN                           NaN        NaN   \n0268435792        NaN           NaN                           NaN        NaN   \n0268435863        NaN           NaN                           NaN        NaN   \n0268435913        NaN           NaN                           NaN        NaN   \n\n           KEYFRAME RadiantLastHits  ...        YPOS   MANA MANA_PERCENT  \\\n0000000000    False             NaN  ...         NaN    NaN          NaN   \n0268435459      NaN            78.0  ...         NaN    NaN          NaN   \n0268435463      NaN             NaN  ...         NaN    NaN          NaN   \n0268435466      NaN             NaN  ...         NaN    NaN          NaN   \n0268435467      NaN             NaN  ...         NaN    NaN          NaN   \n0268435468      NaN             NaN  ...         NaN    NaN          NaN   \n0268435469      NaN             NaN  ...         NaN    NaN          NaN   \n0268435470      NaN             NaN  ...         NaN    NaN          NaN   \n0268435471      NaN             NaN  ...         NaN    NaN          NaN   \n0268435472      NaN             NaN  ...         NaN    NaN          NaN   \n0268435473      NaN             NaN  ...         NaN    NaN          NaN   \n0268435474      NaN             NaN  ...         NaN    NaN          NaN   \n0268435475      NaN             NaN  ...         NaN    NaN          NaN   \n0268435556      NaN             NaN  ...         NaN    NaN          NaN   \n0268435558      NaN             NaN  ...         NaN    NaN          NaN   \n0268435561      NaN             NaN  ...         NaN    NaN          NaN   \n0268435583      NaN             NaN  ...         NaN    NaN          NaN   \n0268435634      NaN             NaN  ...         NaN    NaN          NaN   \n0268435650      NaN             NaN  ...         NaN    NaN          NaN   \n0268435652      NaN             NaN  ...         NaN    NaN          NaN   \n0268435723      NaN             NaN  ...  -4021.9375    NaN          NaN   \n0268435724      NaN             NaN  ...   5784.5625    NaN          NaN   \n0268435725      NaN             NaN  ...   -2455.125    NaN          NaN   \n0268435726      NaN             NaN  ...     -5147.0  365.0     73.88664   \n0268435727      NaN             NaN  ...  1158.28125    NaN          NaN   \n0268435728      NaN             NaN  ...   5468.6875  620.0    74.698795   \n0268435729      NaN             NaN  ...   5204.3125    NaN          NaN   \n0268435730      NaN             NaN  ...      2321.0    NaN          NaN   \n0268435732      NaN             NaN  ...  1232.53125  622.0    82.058047   \n0268435743      NaN             NaN  ...         NaN    NaN          NaN   \n0268435761      NaN             NaN  ...         NaN    NaN          NaN   \n0268435766      NaN             NaN  ...         NaN    NaN          NaN   \n0268435780      NaN             NaN  ...         NaN    NaN          NaN   \n0268435792      NaN             NaN  ...         NaN    NaN          NaN   \n0268435863      NaN             NaN  ...         NaN    NaN          NaN   \n0268435913      NaN             NaN  ...         NaN    NaN          NaN   \n\n           HEALTH_REGEN MANA_REGEN TOTAL_AGILITY DAMAGE_MIN DAMAGE_MAX  \\\n0000000000          NaN        NaN           NaN        NaN        NaN   \n0268435459          NaN        NaN           NaN        NaN        NaN   \n0268435463          NaN        NaN           NaN        NaN        NaN   \n0268435466          NaN        NaN           NaN        NaN        NaN   \n0268435467          NaN        NaN           NaN        NaN        NaN   \n0268435468          NaN        NaN           NaN        NaN        NaN   \n0268435469          NaN        NaN           NaN        NaN        NaN   \n0268435470          NaN        NaN           NaN        NaN        NaN   \n0268435471          NaN        NaN           NaN        NaN        NaN   \n0268435472          NaN        NaN           NaN        NaN        NaN   \n0268435473          NaN        NaN           NaN        NaN        NaN   \n0268435474          NaN        NaN           NaN        NaN        NaN   \n0268435475          NaN        NaN           NaN        NaN        NaN   \n0268435556          NaN        NaN           NaN        NaN        NaN   \n0268435558          NaN        NaN           NaN        NaN        NaN   \n0268435561          NaN        NaN           NaN        NaN        NaN   \n0268435583          NaN        NaN           NaN        NaN        NaN   \n0268435634          NaN        NaN           NaN        NaN        NaN   \n0268435650          NaN        NaN           NaN        NaN        NaN   \n0268435652          NaN        NaN           NaN        NaN        NaN   \n0268435723          NaN        NaN           NaN        NaN        NaN   \n0268435724          NaN        NaN           NaN        NaN        NaN   \n0268435725          NaN        NaN           NaN        NaN        NaN   \n0268435726          NaN        NaN           NaN        NaN        NaN   \n0268435727          NaN        NaN           NaN        NaN        NaN   \n0268435728          NaN        NaN           NaN        NaN        NaN   \n0268435729    172.31967        NaN           NaN        NaN        NaN   \n0268435730          NaN        NaN           NaN        NaN        NaN   \n0268435732          NaN   6.366356    155.800018        181        187   \n0268435743          NaN        NaN           NaN        NaN        NaN   \n0268435761          NaN        NaN           NaN        NaN        NaN   \n0268435766          NaN        NaN           NaN        NaN        NaN   \n0268435780          NaN        NaN           NaN        NaN        NaN   \n0268435792          NaN        NaN           NaN        NaN        NaN   \n0268435863          NaN        NaN           NaN        NaN        NaN   \n0268435913          NaN        NaN           NaN        NaN        NaN   \n\n           DAMAGE_BONUS COOLDOWN_LENGTH  \n0000000000          NaN             NaN  \n0268435459          NaN             NaN  \n0268435463          NaN             NaN  \n0268435466          NaN             NaN  \n0268435467          NaN             NaN  \n0268435468          NaN             NaN  \n0268435469          NaN             NaN  \n0268435470          NaN             NaN  \n0268435471          NaN             NaN  \n0268435472          NaN             NaN  \n0268435473          NaN             NaN  \n0268435474          NaN             NaN  \n0268435475          NaN             NaN  \n0268435556          NaN             NaN  \n0268435558          NaN             NaN  \n0268435561          NaN             NaN  \n0268435583          NaN             NaN  \n0268435634          NaN             NaN  \n0268435650          NaN             NaN  \n0268435652          NaN             NaN  \n0268435723          NaN             NaN  \n0268435724          NaN             NaN  \n0268435725          NaN             NaN  \n0268435726          NaN             NaN  \n0268435727          NaN             NaN  \n0268435728          NaN             NaN  \n0268435729          NaN             NaN  \n0268435730          NaN             NaN  \n0268435732           85             NaN  \n0268435743          NaN             NaN  \n0268435761          NaN             NaN  \n0268435766          NaN             NaN  \n0268435780          NaN             NaN  \n0268435792          NaN             NaN  \n0268435863          NaN       14.969207  \n0268435913          NaN             NaN  \n\n[36 rows x 40 columns]",
      "text/html": "<div>\n<style scoped>\n    .dataframe tbody tr th:only-of-type {\n        vertical-align: middle;\n    }\n\n    .dataframe tbody tr th {\n        vertical-align: top;\n    }\n\n    .dataframe thead th {\n        text-align: right;\n    }\n</style>\n<table border=\"1\" class=\"dataframe\">\n  <thead>\n    <tr style=\"text-align: right;\">\n      <th></th>\n      <th>UID</th>\n      <th>ENTITY_TYPE</th>\n      <th>ID</th>\n      <th>GAME_TIME</th>\n      <th>CLOCK_TIME</th>\n      <th>TIME_IN_PHASE</th>\n      <th>MILLISECONDS_SINCE_GAME_START</th>\n      <th>FRAMEINDEX</th>\n      <th>KEYFRAME</th>\n      <th>RadiantLastHits</th>\n      <th>...</th>\n      <th>YPOS</th>\n      <th>MANA</th>\n      <th>MANA_PERCENT</th>\n      <th>HEALTH_REGEN</th>\n      <th>MANA_REGEN</th>\n      <th>TOTAL_AGILITY</th>\n      <th>DAMAGE_MIN</th>\n      <th>DAMAGE_MAX</th>\n      <th>DAMAGE_BONUS</th>\n      <th>COOLDOWN_LENGTH</th>\n    </tr>\n  </thead>\n  <tbody>\n    <tr>\n      <th>0000000000</th>\n      <td>0</td>\n      <td>Dota2MapEntity</td>\n      <td>MAP</td>\n      <td>2509.9282</td>\n      <td>1540.2214</td>\n      <td>1540.2214</td>\n      <td>2523000.0</td>\n      <td>2500</td>\n      <td>False</td>\n      <td>NaN</td>\n      <td>...</td>\n      <td>NaN</td>\n      <td>NaN</td>\n      <td>NaN</td>\n      <td>NaN</td>\n      <td>NaN</td>\n      <td>NaN</td>\n      <td>NaN</td>\n      <td>NaN</td>\n      <td>NaN</td>\n      <td>NaN</td>\n    </tr>\n    <tr>\n      <th>0268435459</th>\n      <td>268435459</td>\n      <td>Dota2MapRegion</td>\n      <td>JUNGLE_RADIANTBOTTOM</td>\n      <td>NaN</td>\n      <td>NaN</td>\n      <td>NaN</td>\n      <td>NaN</td>\n      <td>NaN</td>\n      <td>NaN</td>\n      <td>78.0</td>\n      <td>...</td>\n      <td>NaN</td>\n      <td>NaN</td>\n      <td>NaN</td>\n      <td>NaN</td>\n      <td>NaN</td>\n      <td>NaN</td>\n      <td>NaN</td>\n      <td>NaN</td>\n      <td>NaN</td>\n      <td>NaN</td>\n    </tr>\n    <tr>\n      <th>0268435463</th>\n      <td>268435463</td>\n      <td>Dota2MapRegion</td>\n      <td>LANE_MIDDLE</td>\n      <td>NaN</td>\n      <td>NaN</td>\n      <td>NaN</td>\n      <td>NaN</td>\n      <td>NaN</td>\n      <td>NaN</td>\n      <td>NaN</td>\n      <td>...</td>\n      <td>NaN</td>\n      <td>NaN</td>\n      <td>NaN</td>\n      <td>NaN</td>\n      <td>NaN</td>\n      <td>NaN</td>\n      <td>NaN</td>\n      <td>NaN</td>\n      <td>NaN</td>\n      <td>NaN</td>\n    </tr>\n    <tr>\n      <th>0268435466</th>\n      <td>268435466</td>\n      <td>PlayerEntity</td>\n      <td>PLAYER0</td>\n      <td>NaN</td>\n      <td>NaN</td>\n      <td>NaN</td>\n      <td>NaN</td>\n      <td>NaN</td>\n      <td>NaN</td>\n      <td>NaN</td>\n      <td>...</td>\n      <td>NaN</td>\n      <td>NaN</td>\n      <td>NaN</td>\n      <td>NaN</td>\n      <td>NaN</td>\n      <td>NaN</td>\n      <td>NaN</td>\n      <td>NaN</td>\n      <td>NaN</td>\n      <td>NaN</td>\n    </tr>\n    <tr>\n      <th>0268435467</th>\n      <td>268435467</td>\n      <td>PlayerEntity</td>\n      <td>PLAYER1</td>\n      <td>NaN</td>\n      <td>NaN</td>\n      <td>NaN</td>\n      <td>NaN</td>\n      <td>NaN</td>\n      <td>NaN</td>\n      <td>NaN</td>\n      <td>...</td>\n      <td>NaN</td>\n      <td>NaN</td>\n      <td>NaN</td>\n      <td>NaN</td>\n      <td>NaN</td>\n      <td>NaN</td>\n      <td>NaN</td>\n      <td>NaN</td>\n      <td>NaN</td>\n      <td>NaN</td>\n    </tr>\n    <tr>\n      <th>0268435468</th>\n      <td>268435468</td>\n      <td>PlayerEntity</td>\n      <td>PLAYER2</td>\n      <td>NaN</td>\n      <td>NaN</td>\n      <td>NaN</td>\n      <td>NaN</td>\n      <td>NaN</td>\n      <td>NaN</td>\n      <td>NaN</td>\n      <td>...</td>\n      <td>NaN</td>\n      <td>NaN</td>\n      <td>NaN</td>\n      <td>NaN</td>\n      <td>NaN</td>\n      <td>NaN</td>\n      <td>NaN</td>\n      <td>NaN</td>\n      <td>NaN</td>\n      <td>NaN</td>\n    </tr>\n    <tr>\n      <th>0268435469</th>\n      <td>268435469</td>\n      <td>PlayerEntity</td>\n      <td>PLAYER3</td>\n      <td>NaN</td>\n      <td>NaN</td>\n      <td>NaN</td>\n      <td>NaN</td>\n      <td>NaN</td>\n      <td>NaN</td>\n      <td>NaN</td>\n      <td>...</td>\n      <td>NaN</td>\n      <td>NaN</td>\n      <td>NaN</td>\n      <td>NaN</td>\n      <td>NaN</td>\n      <td>NaN</td>\n      <td>NaN</td>\n      <td>NaN</td>\n      <td>NaN</td>\n      <td>NaN</td>\n    </tr>\n    <tr>\n      <th>0268435470</th>\n      <td>268435470</td>\n      <td>PlayerEntity</td>\n      <td>PLAYER4</td>\n      <td>NaN</td>\n      <td>NaN</td>\n      <td>NaN</td>\n      <td>NaN</td>\n      <td>NaN</td>\n      <td>NaN</td>\n      <td>NaN</td>\n      <td>...</td>\n      <td>NaN</td>\n      <td>NaN</td>\n      <td>NaN</td>\n      <td>NaN</td>\n      <td>NaN</td>\n      <td>NaN</td>\n      <td>NaN</td>\n      <td>NaN</td>\n      <td>NaN</td>\n      <td>NaN</td>\n    </tr>\n    <tr>\n      <th>0268435471</th>\n      <td>268435471</td>\n      <td>PlayerEntity</td>\n      <td>PLAYER5</td>\n      <td>NaN</td>\n      <td>NaN</td>\n      <td>NaN</td>\n      <td>NaN</td>\n      <td>NaN</td>\n      <td>NaN</td>\n      <td>NaN</td>\n      <td>...</td>\n      <td>NaN</td>\n      <td>NaN</td>\n      <td>NaN</td>\n      <td>NaN</td>\n      <td>NaN</td>\n      <td>NaN</td>\n      <td>NaN</td>\n      <td>NaN</td>\n      <td>NaN</td>\n      <td>NaN</td>\n    </tr>\n    <tr>\n      <th>0268435472</th>\n      <td>268435472</td>\n      <td>PlayerEntity</td>\n      <td>PLAYER6</td>\n      <td>NaN</td>\n      <td>NaN</td>\n      <td>NaN</td>\n      <td>NaN</td>\n      <td>NaN</td>\n      <td>NaN</td>\n      <td>NaN</td>\n      <td>...</td>\n      <td>NaN</td>\n      <td>NaN</td>\n      <td>NaN</td>\n      <td>NaN</td>\n      <td>NaN</td>\n      <td>NaN</td>\n      <td>NaN</td>\n      <td>NaN</td>\n      <td>NaN</td>\n      <td>NaN</td>\n    </tr>\n    <tr>\n      <th>0268435473</th>\n      <td>268435473</td>\n      <td>PlayerEntity</td>\n      <td>PLAYER7</td>\n      <td>NaN</td>\n      <td>NaN</td>\n      <td>NaN</td>\n      <td>NaN</td>\n      <td>NaN</td>\n      <td>NaN</td>\n      <td>NaN</td>\n      <td>...</td>\n      <td>NaN</td>\n      <td>NaN</td>\n      <td>NaN</td>\n      <td>NaN</td>\n      <td>NaN</td>\n      <td>NaN</td>\n      <td>NaN</td>\n      <td>NaN</td>\n      <td>NaN</td>\n      <td>NaN</td>\n    </tr>\n    <tr>\n      <th>0268435474</th>\n      <td>268435474</td>\n      <td>PlayerEntity</td>\n      <td>PLAYER8</td>\n      <td>NaN</td>\n      <td>NaN</td>\n      <td>NaN</td>\n      <td>NaN</td>\n      <td>NaN</td>\n      <td>NaN</td>\n      <td>NaN</td>\n      <td>...</td>\n      <td>NaN</td>\n      <td>NaN</td>\n      <td>NaN</td>\n      <td>NaN</td>\n      <td>NaN</td>\n      <td>NaN</td>\n      <td>NaN</td>\n      <td>NaN</td>\n      <td>NaN</td>\n      <td>NaN</td>\n    </tr>\n    <tr>\n      <th>0268435475</th>\n      <td>268435475</td>\n      <td>PlayerEntity</td>\n      <td>PLAYER9</td>\n      <td>NaN</td>\n      <td>NaN</td>\n      <td>NaN</td>\n      <td>NaN</td>\n      <td>NaN</td>\n      <td>NaN</td>\n      <td>NaN</td>\n      <td>...</td>\n      <td>NaN</td>\n      <td>NaN</td>\n      <td>NaN</td>\n      <td>NaN</td>\n      <td>NaN</td>\n      <td>NaN</td>\n      <td>NaN</td>\n      <td>NaN</td>\n      <td>NaN</td>\n      <td>NaN</td>\n    </tr>\n    <tr>\n      <th>0268435556</th>\n      <td>268435556</td>\n      <td>AbilityEntity</td>\n      <td>ABILITY169</td>\n      <td>NaN</td>\n      <td>NaN</td>\n      <td>NaN</td>\n      <td>NaN</td>\n      <td>NaN</td>\n      <td>NaN</td>\n      <td>NaN</td>\n      <td>...</td>\n      <td>NaN</td>\n      <td>NaN</td>\n      <td>NaN</td>\n      <td>NaN</td>\n      <td>NaN</td>\n      <td>NaN</td>\n      <td>NaN</td>\n      <td>NaN</td>\n      <td>NaN</td>\n      <td>NaN</td>\n    </tr>\n    <tr>\n      <th>0268435558</th>\n      <td>268435558</td>\n      <td>AbilityEntity</td>\n      <td>ABILITY170</td>\n      <td>NaN</td>\n      <td>NaN</td>\n      <td>NaN</td>\n      <td>NaN</td>\n      <td>NaN</td>\n      <td>NaN</td>\n      <td>NaN</td>\n      <td>...</td>\n      <td>NaN</td>\n      <td>NaN</td>\n      <td>NaN</td>\n      <td>NaN</td>\n      <td>NaN</td>\n      <td>NaN</td>\n      <td>NaN</td>\n      <td>NaN</td>\n      <td>NaN</td>\n      <td>NaN</td>\n    </tr>\n    <tr>\n      <th>0268435561</th>\n      <td>268435561</td>\n      <td>AbilityEntity</td>\n      <td>ABILITY173</td>\n      <td>NaN</td>\n      <td>NaN</td>\n      <td>NaN</td>\n      <td>NaN</td>\n      <td>NaN</td>\n      <td>NaN</td>\n      <td>NaN</td>\n      <td>...</td>\n      <td>NaN</td>\n      <td>NaN</td>\n      <td>NaN</td>\n      <td>NaN</td>\n      <td>NaN</td>\n      <td>NaN</td>\n      <td>NaN</td>\n      <td>NaN</td>\n      <td>NaN</td>\n      <td>NaN</td>\n    </tr>\n    <tr>\n      <th>0268435583</th>\n      <td>268435583</td>\n      <td>AbilityEntity</td>\n      <td>ABILITY193</td>\n      <td>NaN</td>\n      <td>NaN</td>\n      <td>NaN</td>\n      <td>NaN</td>\n      <td>NaN</td>\n      <td>NaN</td>\n      <td>NaN</td>\n      <td>...</td>\n      <td>NaN</td>\n      <td>NaN</td>\n      <td>NaN</td>\n      <td>NaN</td>\n      <td>NaN</td>\n      <td>NaN</td>\n      <td>NaN</td>\n      <td>NaN</td>\n      <td>NaN</td>\n      <td>NaN</td>\n    </tr>\n    <tr>\n      <th>0268435634</th>\n      <td>268435634</td>\n      <td>AbilityEntity</td>\n      <td>ABILITY5</td>\n      <td>NaN</td>\n      <td>NaN</td>\n      <td>NaN</td>\n      <td>NaN</td>\n      <td>NaN</td>\n      <td>NaN</td>\n      <td>NaN</td>\n      <td>...</td>\n      <td>NaN</td>\n      <td>NaN</td>\n      <td>NaN</td>\n      <td>NaN</td>\n      <td>NaN</td>\n      <td>NaN</td>\n      <td>NaN</td>\n      <td>NaN</td>\n      <td>NaN</td>\n      <td>NaN</td>\n    </tr>\n    <tr>\n      <th>0268435650</th>\n      <td>268435650</td>\n      <td>AbilityEntity</td>\n      <td>ABILITY64</td>\n      <td>NaN</td>\n      <td>NaN</td>\n      <td>NaN</td>\n      <td>NaN</td>\n      <td>NaN</td>\n      <td>NaN</td>\n      <td>NaN</td>\n      <td>...</td>\n      <td>NaN</td>\n      <td>NaN</td>\n      <td>NaN</td>\n      <td>NaN</td>\n      <td>NaN</td>\n      <td>NaN</td>\n      <td>NaN</td>\n      <td>NaN</td>\n      <td>NaN</td>\n      <td>NaN</td>\n    </tr>\n    <tr>\n      <th>0268435652</th>\n      <td>268435652</td>\n      <td>AbilityEntity</td>\n      <td>ABILITY66</td>\n      <td>NaN</td>\n      <td>NaN</td>\n      <td>NaN</td>\n      <td>NaN</td>\n      <td>NaN</td>\n      <td>NaN</td>\n      <td>NaN</td>\n      <td>...</td>\n      <td>NaN</td>\n      <td>NaN</td>\n      <td>NaN</td>\n      <td>NaN</td>\n      <td>NaN</td>\n      <td>NaN</td>\n      <td>NaN</td>\n      <td>NaN</td>\n      <td>NaN</td>\n      <td>NaN</td>\n    </tr>\n    <tr>\n      <th>0268435723</th>\n      <td>268435723</td>\n      <td>HeroEntity</td>\n      <td>HERO0</td>\n      <td>NaN</td>\n      <td>NaN</td>\n      <td>NaN</td>\n      <td>NaN</td>\n      <td>NaN</td>\n      <td>NaN</td>\n      <td>NaN</td>\n      <td>...</td>\n      <td>-4021.9375</td>\n      <td>NaN</td>\n      <td>NaN</td>\n      <td>NaN</td>\n      <td>NaN</td>\n      <td>NaN</td>\n      <td>NaN</td>\n      <td>NaN</td>\n      <td>NaN</td>\n      <td>NaN</td>\n    </tr>\n    <tr>\n      <th>0268435724</th>\n      <td>268435724</td>\n      <td>HeroEntity</td>\n      <td>HERO1</td>\n      <td>NaN</td>\n      <td>NaN</td>\n      <td>NaN</td>\n      <td>NaN</td>\n      <td>NaN</td>\n      <td>NaN</td>\n      <td>NaN</td>\n      <td>...</td>\n      <td>5784.5625</td>\n      <td>NaN</td>\n      <td>NaN</td>\n      <td>NaN</td>\n      <td>NaN</td>\n      <td>NaN</td>\n      <td>NaN</td>\n      <td>NaN</td>\n      <td>NaN</td>\n      <td>NaN</td>\n    </tr>\n    <tr>\n      <th>0268435725</th>\n      <td>268435725</td>\n      <td>HeroEntity</td>\n      <td>HERO2</td>\n      <td>NaN</td>\n      <td>NaN</td>\n      <td>NaN</td>\n      <td>NaN</td>\n      <td>NaN</td>\n      <td>NaN</td>\n      <td>NaN</td>\n      <td>...</td>\n      <td>-2455.125</td>\n      <td>NaN</td>\n      <td>NaN</td>\n      <td>NaN</td>\n      <td>NaN</td>\n      <td>NaN</td>\n      <td>NaN</td>\n      <td>NaN</td>\n      <td>NaN</td>\n      <td>NaN</td>\n    </tr>\n    <tr>\n      <th>0268435726</th>\n      <td>268435726</td>\n      <td>HeroEntity</td>\n      <td>HERO3</td>\n      <td>NaN</td>\n      <td>NaN</td>\n      <td>NaN</td>\n      <td>NaN</td>\n      <td>NaN</td>\n      <td>NaN</td>\n      <td>NaN</td>\n      <td>...</td>\n      <td>-5147.0</td>\n      <td>365.0</td>\n      <td>73.88664</td>\n      <td>NaN</td>\n      <td>NaN</td>\n      <td>NaN</td>\n      <td>NaN</td>\n      <td>NaN</td>\n      <td>NaN</td>\n      <td>NaN</td>\n    </tr>\n    <tr>\n      <th>0268435727</th>\n      <td>268435727</td>\n      <td>HeroEntity</td>\n      <td>HERO4</td>\n      <td>NaN</td>\n      <td>NaN</td>\n      <td>NaN</td>\n      <td>NaN</td>\n      <td>NaN</td>\n      <td>NaN</td>\n      <td>NaN</td>\n      <td>...</td>\n      <td>1158.28125</td>\n      <td>NaN</td>\n      <td>NaN</td>\n      <td>NaN</td>\n      <td>NaN</td>\n      <td>NaN</td>\n      <td>NaN</td>\n      <td>NaN</td>\n      <td>NaN</td>\n      <td>NaN</td>\n    </tr>\n    <tr>\n      <th>0268435728</th>\n      <td>268435728</td>\n      <td>HeroEntity</td>\n      <td>HERO5</td>\n      <td>NaN</td>\n      <td>NaN</td>\n      <td>NaN</td>\n      <td>NaN</td>\n      <td>NaN</td>\n      <td>NaN</td>\n      <td>NaN</td>\n      <td>...</td>\n      <td>5468.6875</td>\n      <td>620.0</td>\n      <td>74.698795</td>\n      <td>NaN</td>\n      <td>NaN</td>\n      <td>NaN</td>\n      <td>NaN</td>\n      <td>NaN</td>\n      <td>NaN</td>\n      <td>NaN</td>\n    </tr>\n    <tr>\n      <th>0268435729</th>\n      <td>268435729</td>\n      <td>HeroEntity</td>\n      <td>HERO6</td>\n      <td>NaN</td>\n      <td>NaN</td>\n      <td>NaN</td>\n      <td>NaN</td>\n      <td>NaN</td>\n      <td>NaN</td>\n      <td>NaN</td>\n      <td>...</td>\n      <td>5204.3125</td>\n      <td>NaN</td>\n      <td>NaN</td>\n      <td>172.31967</td>\n      <td>NaN</td>\n      <td>NaN</td>\n      <td>NaN</td>\n      <td>NaN</td>\n      <td>NaN</td>\n      <td>NaN</td>\n    </tr>\n    <tr>\n      <th>0268435730</th>\n      <td>268435730</td>\n      <td>HeroEntity</td>\n      <td>HERO7</td>\n      <td>NaN</td>\n      <td>NaN</td>\n      <td>NaN</td>\n      <td>NaN</td>\n      <td>NaN</td>\n      <td>NaN</td>\n      <td>NaN</td>\n      <td>...</td>\n      <td>2321.0</td>\n      <td>NaN</td>\n      <td>NaN</td>\n      <td>NaN</td>\n      <td>NaN</td>\n      <td>NaN</td>\n      <td>NaN</td>\n      <td>NaN</td>\n      <td>NaN</td>\n      <td>NaN</td>\n    </tr>\n    <tr>\n      <th>0268435732</th>\n      <td>268435732</td>\n      <td>HeroEntity</td>\n      <td>HERO9</td>\n      <td>NaN</td>\n      <td>NaN</td>\n      <td>NaN</td>\n      <td>NaN</td>\n      <td>NaN</td>\n      <td>NaN</td>\n      <td>NaN</td>\n      <td>...</td>\n      <td>1232.53125</td>\n      <td>622.0</td>\n      <td>82.058047</td>\n      <td>NaN</td>\n      <td>6.366356</td>\n      <td>155.800018</td>\n      <td>181</td>\n      <td>187</td>\n      <td>85</td>\n      <td>NaN</td>\n    </tr>\n    <tr>\n      <th>0268435743</th>\n      <td>268435743</td>\n      <td>ItemSlotEntity</td>\n      <td>PLAYER0_SLOT16</td>\n      <td>NaN</td>\n      <td>NaN</td>\n      <td>NaN</td>\n      <td>NaN</td>\n      <td>NaN</td>\n      <td>NaN</td>\n      <td>NaN</td>\n      <td>...</td>\n      <td>NaN</td>\n      <td>NaN</td>\n      <td>NaN</td>\n      <td>NaN</td>\n      <td>NaN</td>\n      <td>NaN</td>\n      <td>NaN</td>\n      <td>NaN</td>\n      <td>NaN</td>\n      <td>NaN</td>\n    </tr>\n    <tr>\n      <th>0268435761</th>\n      <td>268435761</td>\n      <td>ItemSlotEntity</td>\n      <td>PLAYER1_SLOT15</td>\n      <td>NaN</td>\n      <td>NaN</td>\n      <td>NaN</td>\n      <td>NaN</td>\n      <td>NaN</td>\n      <td>NaN</td>\n      <td>NaN</td>\n      <td>...</td>\n      <td>NaN</td>\n      <td>NaN</td>\n      <td>NaN</td>\n      <td>NaN</td>\n      <td>NaN</td>\n      <td>NaN</td>\n      <td>NaN</td>\n      <td>NaN</td>\n      <td>NaN</td>\n      <td>NaN</td>\n    </tr>\n    <tr>\n      <th>0268435766</th>\n      <td>268435766</td>\n      <td>ItemSlotEntity</td>\n      <td>PLAYER1_SLOT3</td>\n      <td>NaN</td>\n      <td>NaN</td>\n      <td>NaN</td>\n      <td>NaN</td>\n      <td>NaN</td>\n      <td>NaN</td>\n      <td>NaN</td>\n      <td>...</td>\n      <td>NaN</td>\n      <td>NaN</td>\n      <td>NaN</td>\n      <td>NaN</td>\n      <td>NaN</td>\n      <td>NaN</td>\n      <td>NaN</td>\n      <td>NaN</td>\n      <td>NaN</td>\n      <td>NaN</td>\n    </tr>\n    <tr>\n      <th>0268435780</th>\n      <td>268435780</td>\n      <td>ItemSlotEntity</td>\n      <td>PLAYER2_SLOT15</td>\n      <td>NaN</td>\n      <td>NaN</td>\n      <td>NaN</td>\n      <td>NaN</td>\n      <td>NaN</td>\n      <td>NaN</td>\n      <td>NaN</td>\n      <td>...</td>\n      <td>NaN</td>\n      <td>NaN</td>\n      <td>NaN</td>\n      <td>NaN</td>\n      <td>NaN</td>\n      <td>NaN</td>\n      <td>NaN</td>\n      <td>NaN</td>\n      <td>NaN</td>\n      <td>NaN</td>\n    </tr>\n    <tr>\n      <th>0268435792</th>\n      <td>268435792</td>\n      <td>ItemSlotEntity</td>\n      <td>PLAYER3_SLOT0</td>\n      <td>NaN</td>\n      <td>NaN</td>\n      <td>NaN</td>\n      <td>NaN</td>\n      <td>NaN</td>\n      <td>NaN</td>\n      <td>NaN</td>\n      <td>...</td>\n      <td>NaN</td>\n      <td>NaN</td>\n      <td>NaN</td>\n      <td>NaN</td>\n      <td>NaN</td>\n      <td>NaN</td>\n      <td>NaN</td>\n      <td>NaN</td>\n      <td>NaN</td>\n      <td>NaN</td>\n    </tr>\n    <tr>\n      <th>0268435863</th>\n      <td>268435863</td>\n      <td>ItemSlotEntity</td>\n      <td>PLAYER6_SLOT5</td>\n      <td>NaN</td>\n      <td>NaN</td>\n      <td>NaN</td>\n      <td>NaN</td>\n      <td>NaN</td>\n      <td>NaN</td>\n      <td>NaN</td>\n      <td>...</td>\n      <td>NaN</td>\n      <td>NaN</td>\n      <td>NaN</td>\n      <td>NaN</td>\n      <td>NaN</td>\n      <td>NaN</td>\n      <td>NaN</td>\n      <td>NaN</td>\n      <td>NaN</td>\n      <td>14.969207</td>\n    </tr>\n    <tr>\n      <th>0268435913</th>\n      <td>268435913</td>\n      <td>ItemSlotEntity</td>\n      <td>PLAYER9_SLOT15</td>\n      <td>NaN</td>\n      <td>NaN</td>\n      <td>NaN</td>\n      <td>NaN</td>\n      <td>NaN</td>\n      <td>NaN</td>\n      <td>NaN</td>\n      <td>...</td>\n      <td>NaN</td>\n      <td>NaN</td>\n      <td>NaN</td>\n      <td>NaN</td>\n      <td>NaN</td>\n      <td>NaN</td>\n      <td>NaN</td>\n      <td>NaN</td>\n      <td>NaN</td>\n      <td>NaN</td>\n    </tr>\n  </tbody>\n</table>\n<p>36 rows × 40 columns</p>\n</div>"
     },
     "execution_count": 131,
     "metadata": {},
     "output_type": "execute_result"
    }
   ],
   "source": [
    "df"
   ],
   "metadata": {
    "collapsed": false,
    "pycharm": {
     "name": "#%%\n"
    }
   }
  },
  {
   "cell_type": "code",
   "execution_count": 37,
   "outputs": [
    {
     "data": {
      "text/plain": "                  UID ENTITY_TYPE     ID        XPOS        YPOS\n0268435723  268435723  HeroEntity  HERO0      -397.5  -4021.9375\n0268435724  268435724  HeroEntity  HERO1     -1689.0   5784.5625\n0268435725  268435725  HeroEntity  HERO2    -74.6875   -2455.125\n0268435726  268435726  HeroEntity  HERO3      6887.0     -5147.0\n0268435727  268435727  HeroEntity  HERO4 -2393.28125  1158.28125\n0268435728  268435728  HeroEntity  HERO5     1307.25   5468.6875\n0268435729  268435729  HeroEntity  HERO6   5143.4375   5204.3125\n0268435730  268435730  HeroEntity  HERO7    1585.375      2321.0\n0268435732  268435732  HeroEntity  HERO9    1531.125  1232.53125",
      "text/html": "<div>\n<style scoped>\n    .dataframe tbody tr th:only-of-type {\n        vertical-align: middle;\n    }\n\n    .dataframe tbody tr th {\n        vertical-align: top;\n    }\n\n    .dataframe thead th {\n        text-align: right;\n    }\n</style>\n<table border=\"1\" class=\"dataframe\">\n  <thead>\n    <tr style=\"text-align: right;\">\n      <th></th>\n      <th>UID</th>\n      <th>ENTITY_TYPE</th>\n      <th>ID</th>\n      <th>XPOS</th>\n      <th>YPOS</th>\n    </tr>\n  </thead>\n  <tbody>\n    <tr>\n      <th>0268435723</th>\n      <td>268435723</td>\n      <td>HeroEntity</td>\n      <td>HERO0</td>\n      <td>-397.5</td>\n      <td>-4021.9375</td>\n    </tr>\n    <tr>\n      <th>0268435724</th>\n      <td>268435724</td>\n      <td>HeroEntity</td>\n      <td>HERO1</td>\n      <td>-1689.0</td>\n      <td>5784.5625</td>\n    </tr>\n    <tr>\n      <th>0268435725</th>\n      <td>268435725</td>\n      <td>HeroEntity</td>\n      <td>HERO2</td>\n      <td>-74.6875</td>\n      <td>-2455.125</td>\n    </tr>\n    <tr>\n      <th>0268435726</th>\n      <td>268435726</td>\n      <td>HeroEntity</td>\n      <td>HERO3</td>\n      <td>6887.0</td>\n      <td>-5147.0</td>\n    </tr>\n    <tr>\n      <th>0268435727</th>\n      <td>268435727</td>\n      <td>HeroEntity</td>\n      <td>HERO4</td>\n      <td>-2393.28125</td>\n      <td>1158.28125</td>\n    </tr>\n    <tr>\n      <th>0268435728</th>\n      <td>268435728</td>\n      <td>HeroEntity</td>\n      <td>HERO5</td>\n      <td>1307.25</td>\n      <td>5468.6875</td>\n    </tr>\n    <tr>\n      <th>0268435729</th>\n      <td>268435729</td>\n      <td>HeroEntity</td>\n      <td>HERO6</td>\n      <td>5143.4375</td>\n      <td>5204.3125</td>\n    </tr>\n    <tr>\n      <th>0268435730</th>\n      <td>268435730</td>\n      <td>HeroEntity</td>\n      <td>HERO7</td>\n      <td>1585.375</td>\n      <td>2321.0</td>\n    </tr>\n    <tr>\n      <th>0268435732</th>\n      <td>268435732</td>\n      <td>HeroEntity</td>\n      <td>HERO9</td>\n      <td>1531.125</td>\n      <td>1232.53125</td>\n    </tr>\n  </tbody>\n</table>\n</div>"
     },
     "execution_count": 37,
     "metadata": {},
     "output_type": "execute_result"
    }
   ],
   "source": [
    "df[df['ENTITY_TYPE']==\"HeroEntity\"].dropna(axis=1)"
   ],
   "metadata": {
    "collapsed": false,
    "pycharm": {
     "name": "#%%\n"
    }
   }
  },
  {
   "cell_type": "code",
   "execution_count": 95,
   "outputs": [],
   "source": [
    "def get_player_from_frame(frame_number):\n",
    "    entity_data = raw_data[\"frames\"][frame_number][\"Entities\"]\n",
    "    df =  pd.DataFrame(entity_data).T\n",
    "    player_df = df[df['ENTITY_TYPE']==\"PlayerEntity\"].dropna(axis=1)\n",
    "    hero_df = df[df['ENTITY_TYPE']==\"HeroEntity\"].dropna(axis=1)\n",
    "    hero_df['ID'] = hero_df['ID'].apply(lambda x: x.replace('HERO', 'PLAYER'))\n",
    "    result = pd.concat([hero_df.set_index('ID'),player_df.set_index('ID')], axis=1, join='inner')\n",
    "    result = result.drop(\"ENTITY_TYPE\",axis=1)\n",
    "    result.set_index(result.index)\n",
    "    result[\"UIDF\"] = [f\"{x}{frame_number}\" for x in range(0,len(result))]\n",
    "    result.set_index(\"UIDF\",inplace=True)\n",
    "    return result"
   ],
   "metadata": {
    "collapsed": false,
    "pycharm": {
     "name": "#%%\n"
    }
   }
  },
  {
   "cell_type": "code",
   "execution_count": 101,
   "outputs": [
    {
     "data": {
      "text/plain": "             UID        XPOS        YPOS        UID NET_WORTH    GOLD  \\\nUIDF                                                                    \n02500  268435723      -397.5  -4021.9375  268435466   13786.0  1891.0   \n12500  268435724     -1689.0   5784.5625  268435467   11726.0   276.0   \n22500  268435725    -74.6875   -2455.125  268435468    8817.0  1377.0   \n32500  268435726      6887.0     -5147.0  268435469    3586.0  1081.0   \n42500  268435727 -2393.28125  1158.28125  268435470    8469.0  1004.0   \n52500  268435728     1307.25   5468.6875  268435471    5829.0  1589.0   \n62500  268435729   5143.4375   5204.3125  268435472   10184.0   924.0   \n72500  268435730    1585.375      2321.0  268435473    7707.0   757.0   \n82500  268435732    1531.125  1232.53125  268435475   15516.0   891.0   \n\n      GOLD_EARNED GOLD_RELIABLE GOLD_FROM_INCOME XCURSOR YCURSOR  \nUIDF                                                              \n02500     13742.0         480.0           2430.0   324.0   180.0  \n12500     12178.0         115.0           2430.0   227.0   103.0  \n22500      9758.0        1021.0           2430.0   282.0   212.0  \n32500      5431.0         904.0           2430.0   286.0   153.0  \n42500      9228.0         509.0           2430.0   162.0    90.0  \n52500      7894.0         617.0           2430.0   159.0   203.0  \n62500     10534.0         613.0           2430.0    34.0   339.0  \n72500      8133.0         516.0           2430.0   328.0   196.0  \n82500     16345.0         149.0           2430.0   329.0   124.0  ",
      "text/html": "<div>\n<style scoped>\n    .dataframe tbody tr th:only-of-type {\n        vertical-align: middle;\n    }\n\n    .dataframe tbody tr th {\n        vertical-align: top;\n    }\n\n    .dataframe thead th {\n        text-align: right;\n    }\n</style>\n<table border=\"1\" class=\"dataframe\">\n  <thead>\n    <tr style=\"text-align: right;\">\n      <th></th>\n      <th>UID</th>\n      <th>XPOS</th>\n      <th>YPOS</th>\n      <th>UID</th>\n      <th>NET_WORTH</th>\n      <th>GOLD</th>\n      <th>GOLD_EARNED</th>\n      <th>GOLD_RELIABLE</th>\n      <th>GOLD_FROM_INCOME</th>\n      <th>XCURSOR</th>\n      <th>YCURSOR</th>\n    </tr>\n    <tr>\n      <th>UIDF</th>\n      <th></th>\n      <th></th>\n      <th></th>\n      <th></th>\n      <th></th>\n      <th></th>\n      <th></th>\n      <th></th>\n      <th></th>\n      <th></th>\n      <th></th>\n    </tr>\n  </thead>\n  <tbody>\n    <tr>\n      <th>02500</th>\n      <td>268435723</td>\n      <td>-397.5</td>\n      <td>-4021.9375</td>\n      <td>268435466</td>\n      <td>13786.0</td>\n      <td>1891.0</td>\n      <td>13742.0</td>\n      <td>480.0</td>\n      <td>2430.0</td>\n      <td>324.0</td>\n      <td>180.0</td>\n    </tr>\n    <tr>\n      <th>12500</th>\n      <td>268435724</td>\n      <td>-1689.0</td>\n      <td>5784.5625</td>\n      <td>268435467</td>\n      <td>11726.0</td>\n      <td>276.0</td>\n      <td>12178.0</td>\n      <td>115.0</td>\n      <td>2430.0</td>\n      <td>227.0</td>\n      <td>103.0</td>\n    </tr>\n    <tr>\n      <th>22500</th>\n      <td>268435725</td>\n      <td>-74.6875</td>\n      <td>-2455.125</td>\n      <td>268435468</td>\n      <td>8817.0</td>\n      <td>1377.0</td>\n      <td>9758.0</td>\n      <td>1021.0</td>\n      <td>2430.0</td>\n      <td>282.0</td>\n      <td>212.0</td>\n    </tr>\n    <tr>\n      <th>32500</th>\n      <td>268435726</td>\n      <td>6887.0</td>\n      <td>-5147.0</td>\n      <td>268435469</td>\n      <td>3586.0</td>\n      <td>1081.0</td>\n      <td>5431.0</td>\n      <td>904.0</td>\n      <td>2430.0</td>\n      <td>286.0</td>\n      <td>153.0</td>\n    </tr>\n    <tr>\n      <th>42500</th>\n      <td>268435727</td>\n      <td>-2393.28125</td>\n      <td>1158.28125</td>\n      <td>268435470</td>\n      <td>8469.0</td>\n      <td>1004.0</td>\n      <td>9228.0</td>\n      <td>509.0</td>\n      <td>2430.0</td>\n      <td>162.0</td>\n      <td>90.0</td>\n    </tr>\n    <tr>\n      <th>52500</th>\n      <td>268435728</td>\n      <td>1307.25</td>\n      <td>5468.6875</td>\n      <td>268435471</td>\n      <td>5829.0</td>\n      <td>1589.0</td>\n      <td>7894.0</td>\n      <td>617.0</td>\n      <td>2430.0</td>\n      <td>159.0</td>\n      <td>203.0</td>\n    </tr>\n    <tr>\n      <th>62500</th>\n      <td>268435729</td>\n      <td>5143.4375</td>\n      <td>5204.3125</td>\n      <td>268435472</td>\n      <td>10184.0</td>\n      <td>924.0</td>\n      <td>10534.0</td>\n      <td>613.0</td>\n      <td>2430.0</td>\n      <td>34.0</td>\n      <td>339.0</td>\n    </tr>\n    <tr>\n      <th>72500</th>\n      <td>268435730</td>\n      <td>1585.375</td>\n      <td>2321.0</td>\n      <td>268435473</td>\n      <td>7707.0</td>\n      <td>757.0</td>\n      <td>8133.0</td>\n      <td>516.0</td>\n      <td>2430.0</td>\n      <td>328.0</td>\n      <td>196.0</td>\n    </tr>\n    <tr>\n      <th>82500</th>\n      <td>268435732</td>\n      <td>1531.125</td>\n      <td>1232.53125</td>\n      <td>268435475</td>\n      <td>15516.0</td>\n      <td>891.0</td>\n      <td>16345.0</td>\n      <td>149.0</td>\n      <td>2430.0</td>\n      <td>329.0</td>\n      <td>124.0</td>\n    </tr>\n  </tbody>\n</table>\n</div>"
     },
     "execution_count": 101,
     "metadata": {},
     "output_type": "execute_result"
    }
   ],
   "source": [
    "get_player_from_frame(2500)"
   ],
   "metadata": {
    "collapsed": false,
    "pycharm": {
     "name": "#%%\n"
    }
   }
  },
  {
   "cell_type": "code",
   "execution_count": 102,
   "outputs": [],
   "source": [
    "frames = list(range(2500,2504))"
   ],
   "metadata": {
    "collapsed": false,
    "pycharm": {
     "name": "#%%\n"
    }
   }
  },
  {
   "cell_type": "code",
   "execution_count": 104,
   "outputs": [],
   "source": [
    "frame_dfs =  [get_player_from_frame(x) for x in frames]"
   ],
   "metadata": {
    "collapsed": false,
    "pycharm": {
     "name": "#%%\n"
    }
   }
  },
  {
   "cell_type": "code",
   "execution_count": 107,
   "outputs": [
    {
     "name": "stdout",
     "output_type": "stream",
     "text": [
      "36\n",
      "36\n"
     ]
    }
   ],
   "source": [
    "indexes = []\n",
    "\n",
    "for frame in frame_dfs:\n",
    "    indexes+=list(frame.index)\n",
    "print(len(indexes))\n",
    "print(len(set(indexes)))"
   ],
   "metadata": {
    "collapsed": false,
    "pycharm": {
     "name": "#%%\n"
    }
   }
  },
  {
   "cell_type": "code",
   "execution_count": 113,
   "outputs": [
    {
     "data": {
      "text/plain": "             UID        XPOS        YPOS        UID NET_WORTH    GOLD  \\\nUIDF                                                                    \n02500  268435723      -397.5  -4021.9375  268435466   13786.0  1891.0   \n12500  268435724     -1689.0   5784.5625  268435467   11726.0   276.0   \n22500  268435725    -74.6875   -2455.125  268435468    8817.0  1377.0   \n32500  268435726      6887.0     -5147.0  268435469    3586.0  1081.0   \n42500  268435727 -2393.28125  1158.28125  268435470    8469.0  1004.0   \n52500  268435728     1307.25   5468.6875  268435471    5829.0  1589.0   \n62500  268435729   5143.4375   5204.3125  268435472   10184.0   924.0   \n72500  268435730    1585.375      2321.0  268435473    7707.0   757.0   \n82500  268435732    1531.125  1232.53125  268435475   15516.0   891.0   \n\n      GOLD_EARNED GOLD_RELIABLE GOLD_FROM_INCOME XCURSOR YCURSOR  \nUIDF                                                              \n02500     13742.0         480.0           2430.0   324.0   180.0  \n12500     12178.0         115.0           2430.0   227.0   103.0  \n22500      9758.0        1021.0           2430.0   282.0   212.0  \n32500      5431.0         904.0           2430.0   286.0   153.0  \n42500      9228.0         509.0           2430.0   162.0    90.0  \n52500      7894.0         617.0           2430.0   159.0   203.0  \n62500     10534.0         613.0           2430.0    34.0   339.0  \n72500      8133.0         516.0           2430.0   328.0   196.0  \n82500     16345.0         149.0           2430.0   329.0   124.0  ",
      "text/html": "<div>\n<style scoped>\n    .dataframe tbody tr th:only-of-type {\n        vertical-align: middle;\n    }\n\n    .dataframe tbody tr th {\n        vertical-align: top;\n    }\n\n    .dataframe thead th {\n        text-align: right;\n    }\n</style>\n<table border=\"1\" class=\"dataframe\">\n  <thead>\n    <tr style=\"text-align: right;\">\n      <th></th>\n      <th>UID</th>\n      <th>XPOS</th>\n      <th>YPOS</th>\n      <th>UID</th>\n      <th>NET_WORTH</th>\n      <th>GOLD</th>\n      <th>GOLD_EARNED</th>\n      <th>GOLD_RELIABLE</th>\n      <th>GOLD_FROM_INCOME</th>\n      <th>XCURSOR</th>\n      <th>YCURSOR</th>\n    </tr>\n    <tr>\n      <th>UIDF</th>\n      <th></th>\n      <th></th>\n      <th></th>\n      <th></th>\n      <th></th>\n      <th></th>\n      <th></th>\n      <th></th>\n      <th></th>\n      <th></th>\n      <th></th>\n    </tr>\n  </thead>\n  <tbody>\n    <tr>\n      <th>02500</th>\n      <td>268435723</td>\n      <td>-397.5</td>\n      <td>-4021.9375</td>\n      <td>268435466</td>\n      <td>13786.0</td>\n      <td>1891.0</td>\n      <td>13742.0</td>\n      <td>480.0</td>\n      <td>2430.0</td>\n      <td>324.0</td>\n      <td>180.0</td>\n    </tr>\n    <tr>\n      <th>12500</th>\n      <td>268435724</td>\n      <td>-1689.0</td>\n      <td>5784.5625</td>\n      <td>268435467</td>\n      <td>11726.0</td>\n      <td>276.0</td>\n      <td>12178.0</td>\n      <td>115.0</td>\n      <td>2430.0</td>\n      <td>227.0</td>\n      <td>103.0</td>\n    </tr>\n    <tr>\n      <th>22500</th>\n      <td>268435725</td>\n      <td>-74.6875</td>\n      <td>-2455.125</td>\n      <td>268435468</td>\n      <td>8817.0</td>\n      <td>1377.0</td>\n      <td>9758.0</td>\n      <td>1021.0</td>\n      <td>2430.0</td>\n      <td>282.0</td>\n      <td>212.0</td>\n    </tr>\n    <tr>\n      <th>32500</th>\n      <td>268435726</td>\n      <td>6887.0</td>\n      <td>-5147.0</td>\n      <td>268435469</td>\n      <td>3586.0</td>\n      <td>1081.0</td>\n      <td>5431.0</td>\n      <td>904.0</td>\n      <td>2430.0</td>\n      <td>286.0</td>\n      <td>153.0</td>\n    </tr>\n    <tr>\n      <th>42500</th>\n      <td>268435727</td>\n      <td>-2393.28125</td>\n      <td>1158.28125</td>\n      <td>268435470</td>\n      <td>8469.0</td>\n      <td>1004.0</td>\n      <td>9228.0</td>\n      <td>509.0</td>\n      <td>2430.0</td>\n      <td>162.0</td>\n      <td>90.0</td>\n    </tr>\n    <tr>\n      <th>52500</th>\n      <td>268435728</td>\n      <td>1307.25</td>\n      <td>5468.6875</td>\n      <td>268435471</td>\n      <td>5829.0</td>\n      <td>1589.0</td>\n      <td>7894.0</td>\n      <td>617.0</td>\n      <td>2430.0</td>\n      <td>159.0</td>\n      <td>203.0</td>\n    </tr>\n    <tr>\n      <th>62500</th>\n      <td>268435729</td>\n      <td>5143.4375</td>\n      <td>5204.3125</td>\n      <td>268435472</td>\n      <td>10184.0</td>\n      <td>924.0</td>\n      <td>10534.0</td>\n      <td>613.0</td>\n      <td>2430.0</td>\n      <td>34.0</td>\n      <td>339.0</td>\n    </tr>\n    <tr>\n      <th>72500</th>\n      <td>268435730</td>\n      <td>1585.375</td>\n      <td>2321.0</td>\n      <td>268435473</td>\n      <td>7707.0</td>\n      <td>757.0</td>\n      <td>8133.0</td>\n      <td>516.0</td>\n      <td>2430.0</td>\n      <td>328.0</td>\n      <td>196.0</td>\n    </tr>\n    <tr>\n      <th>82500</th>\n      <td>268435732</td>\n      <td>1531.125</td>\n      <td>1232.53125</td>\n      <td>268435475</td>\n      <td>15516.0</td>\n      <td>891.0</td>\n      <td>16345.0</td>\n      <td>149.0</td>\n      <td>2430.0</td>\n      <td>329.0</td>\n      <td>124.0</td>\n    </tr>\n  </tbody>\n</table>\n</div>"
     },
     "execution_count": 113,
     "metadata": {},
     "output_type": "execute_result"
    }
   ],
   "source": [
    "frame_dfs[0]"
   ],
   "metadata": {
    "collapsed": false,
    "pycharm": {
     "name": "#%%\n"
    }
   }
  },
  {
   "cell_type": "code",
   "execution_count": 116,
   "outputs": [
    {
     "ename": "InvalidIndexError",
     "evalue": "Reindexing only valid with uniquely valued Index objects",
     "output_type": "error",
     "traceback": [
      "\u001B[1;31m---------------------------------------------------------------------------\u001B[0m",
      "\u001B[1;31mInvalidIndexError\u001B[0m                         Traceback (most recent call last)",
      "\u001B[1;32m~\\AppData\\Local\\Temp/ipykernel_10772/2903214172.py\u001B[0m in \u001B[0;36m<module>\u001B[1;34m\u001B[0m\n\u001B[1;32m----> 1\u001B[1;33m \u001B[0mframe_dfs\u001B[0m\u001B[1;33m[\u001B[0m\u001B[1;36m0\u001B[0m\u001B[1;33m]\u001B[0m\u001B[1;33m.\u001B[0m\u001B[0mappend\u001B[0m\u001B[1;33m(\u001B[0m\u001B[0mframe_dfs\u001B[0m\u001B[1;33m[\u001B[0m\u001B[1;36m1\u001B[0m\u001B[1;33m:\u001B[0m\u001B[1;33m]\u001B[0m\u001B[1;33m,\u001B[0m\u001B[0mignore_index\u001B[0m\u001B[1;33m=\u001B[0m\u001B[1;32mTrue\u001B[0m\u001B[1;33m)\u001B[0m\u001B[1;33m\u001B[0m\u001B[1;33m\u001B[0m\u001B[0m\n\u001B[0m",
      "\u001B[1;32m~\\anaconda3\\lib\\site-packages\\pandas\\core\\frame.py\u001B[0m in \u001B[0;36mappend\u001B[1;34m(self, other, ignore_index, verify_integrity, sort)\u001B[0m\n\u001B[0;32m   8963\u001B[0m             \u001B[0mto_concat\u001B[0m \u001B[1;33m=\u001B[0m \u001B[1;33m[\u001B[0m\u001B[0mself\u001B[0m\u001B[1;33m,\u001B[0m \u001B[0mother\u001B[0m\u001B[1;33m]\u001B[0m\u001B[1;33m\u001B[0m\u001B[1;33m\u001B[0m\u001B[0m\n\u001B[0;32m   8964\u001B[0m         return (\n\u001B[1;32m-> 8965\u001B[1;33m             concat(\n\u001B[0m\u001B[0;32m   8966\u001B[0m                 \u001B[0mto_concat\u001B[0m\u001B[1;33m,\u001B[0m\u001B[1;33m\u001B[0m\u001B[1;33m\u001B[0m\u001B[0m\n\u001B[0;32m   8967\u001B[0m                 \u001B[0mignore_index\u001B[0m\u001B[1;33m=\u001B[0m\u001B[0mignore_index\u001B[0m\u001B[1;33m,\u001B[0m\u001B[1;33m\u001B[0m\u001B[1;33m\u001B[0m\u001B[0m\n",
      "\u001B[1;32m~\\anaconda3\\lib\\site-packages\\pandas\\util\\_decorators.py\u001B[0m in \u001B[0;36mwrapper\u001B[1;34m(*args, **kwargs)\u001B[0m\n\u001B[0;32m    309\u001B[0m                     \u001B[0mstacklevel\u001B[0m\u001B[1;33m=\u001B[0m\u001B[0mstacklevel\u001B[0m\u001B[1;33m,\u001B[0m\u001B[1;33m\u001B[0m\u001B[1;33m\u001B[0m\u001B[0m\n\u001B[0;32m    310\u001B[0m                 )\n\u001B[1;32m--> 311\u001B[1;33m             \u001B[1;32mreturn\u001B[0m \u001B[0mfunc\u001B[0m\u001B[1;33m(\u001B[0m\u001B[1;33m*\u001B[0m\u001B[0margs\u001B[0m\u001B[1;33m,\u001B[0m \u001B[1;33m**\u001B[0m\u001B[0mkwargs\u001B[0m\u001B[1;33m)\u001B[0m\u001B[1;33m\u001B[0m\u001B[1;33m\u001B[0m\u001B[0m\n\u001B[0m\u001B[0;32m    312\u001B[0m \u001B[1;33m\u001B[0m\u001B[0m\n\u001B[0;32m    313\u001B[0m         \u001B[1;32mreturn\u001B[0m \u001B[0mwrapper\u001B[0m\u001B[1;33m\u001B[0m\u001B[1;33m\u001B[0m\u001B[0m\n",
      "\u001B[1;32m~\\anaconda3\\lib\\site-packages\\pandas\\core\\reshape\\concat.py\u001B[0m in \u001B[0;36mconcat\u001B[1;34m(objs, axis, join, ignore_index, keys, levels, names, verify_integrity, sort, copy)\u001B[0m\n\u001B[0;32m    305\u001B[0m     )\n\u001B[0;32m    306\u001B[0m \u001B[1;33m\u001B[0m\u001B[0m\n\u001B[1;32m--> 307\u001B[1;33m     \u001B[1;32mreturn\u001B[0m \u001B[0mop\u001B[0m\u001B[1;33m.\u001B[0m\u001B[0mget_result\u001B[0m\u001B[1;33m(\u001B[0m\u001B[1;33m)\u001B[0m\u001B[1;33m\u001B[0m\u001B[1;33m\u001B[0m\u001B[0m\n\u001B[0m\u001B[0;32m    308\u001B[0m \u001B[1;33m\u001B[0m\u001B[0m\n\u001B[0;32m    309\u001B[0m \u001B[1;33m\u001B[0m\u001B[0m\n",
      "\u001B[1;32m~\\anaconda3\\lib\\site-packages\\pandas\\core\\reshape\\concat.py\u001B[0m in \u001B[0;36mget_result\u001B[1;34m(self)\u001B[0m\n\u001B[0;32m    526\u001B[0m                     \u001B[0mobj_labels\u001B[0m \u001B[1;33m=\u001B[0m \u001B[0mobj\u001B[0m\u001B[1;33m.\u001B[0m\u001B[0maxes\u001B[0m\u001B[1;33m[\u001B[0m\u001B[1;36m1\u001B[0m \u001B[1;33m-\u001B[0m \u001B[0max\u001B[0m\u001B[1;33m]\u001B[0m\u001B[1;33m\u001B[0m\u001B[1;33m\u001B[0m\u001B[0m\n\u001B[0;32m    527\u001B[0m                     \u001B[1;32mif\u001B[0m \u001B[1;32mnot\u001B[0m \u001B[0mnew_labels\u001B[0m\u001B[1;33m.\u001B[0m\u001B[0mequals\u001B[0m\u001B[1;33m(\u001B[0m\u001B[0mobj_labels\u001B[0m\u001B[1;33m)\u001B[0m\u001B[1;33m:\u001B[0m\u001B[1;33m\u001B[0m\u001B[1;33m\u001B[0m\u001B[0m\n\u001B[1;32m--> 528\u001B[1;33m                         \u001B[0mindexers\u001B[0m\u001B[1;33m[\u001B[0m\u001B[0max\u001B[0m\u001B[1;33m]\u001B[0m \u001B[1;33m=\u001B[0m \u001B[0mobj_labels\u001B[0m\u001B[1;33m.\u001B[0m\u001B[0mget_indexer\u001B[0m\u001B[1;33m(\u001B[0m\u001B[0mnew_labels\u001B[0m\u001B[1;33m)\u001B[0m\u001B[1;33m\u001B[0m\u001B[1;33m\u001B[0m\u001B[0m\n\u001B[0m\u001B[0;32m    529\u001B[0m \u001B[1;33m\u001B[0m\u001B[0m\n\u001B[0;32m    530\u001B[0m                 \u001B[0mmgrs_indexers\u001B[0m\u001B[1;33m.\u001B[0m\u001B[0mappend\u001B[0m\u001B[1;33m(\u001B[0m\u001B[1;33m(\u001B[0m\u001B[0mobj\u001B[0m\u001B[1;33m.\u001B[0m\u001B[0m_mgr\u001B[0m\u001B[1;33m,\u001B[0m \u001B[0mindexers\u001B[0m\u001B[1;33m)\u001B[0m\u001B[1;33m)\u001B[0m\u001B[1;33m\u001B[0m\u001B[1;33m\u001B[0m\u001B[0m\n",
      "\u001B[1;32m~\\anaconda3\\lib\\site-packages\\pandas\\core\\indexes\\base.py\u001B[0m in \u001B[0;36mget_indexer\u001B[1;34m(self, target, method, limit, tolerance)\u001B[0m\n\u001B[0;32m   3440\u001B[0m \u001B[1;33m\u001B[0m\u001B[0m\n\u001B[0;32m   3441\u001B[0m         \u001B[1;32mif\u001B[0m \u001B[1;32mnot\u001B[0m \u001B[0mself\u001B[0m\u001B[1;33m.\u001B[0m\u001B[0m_index_as_unique\u001B[0m\u001B[1;33m:\u001B[0m\u001B[1;33m\u001B[0m\u001B[1;33m\u001B[0m\u001B[0m\n\u001B[1;32m-> 3442\u001B[1;33m             \u001B[1;32mraise\u001B[0m \u001B[0mInvalidIndexError\u001B[0m\u001B[1;33m(\u001B[0m\u001B[0mself\u001B[0m\u001B[1;33m.\u001B[0m\u001B[0m_requires_unique_msg\u001B[0m\u001B[1;33m)\u001B[0m\u001B[1;33m\u001B[0m\u001B[1;33m\u001B[0m\u001B[0m\n\u001B[0m\u001B[0;32m   3443\u001B[0m \u001B[1;33m\u001B[0m\u001B[0m\n\u001B[0;32m   3444\u001B[0m         \u001B[1;32mif\u001B[0m \u001B[1;32mnot\u001B[0m \u001B[0mself\u001B[0m\u001B[1;33m.\u001B[0m\u001B[0m_should_compare\u001B[0m\u001B[1;33m(\u001B[0m\u001B[0mtarget\u001B[0m\u001B[1;33m)\u001B[0m \u001B[1;32mand\u001B[0m \u001B[1;32mnot\u001B[0m \u001B[0mis_interval_dtype\u001B[0m\u001B[1;33m(\u001B[0m\u001B[0mself\u001B[0m\u001B[1;33m.\u001B[0m\u001B[0mdtype\u001B[0m\u001B[1;33m)\u001B[0m\u001B[1;33m:\u001B[0m\u001B[1;33m\u001B[0m\u001B[1;33m\u001B[0m\u001B[0m\n",
      "\u001B[1;31mInvalidIndexError\u001B[0m: Reindexing only valid with uniquely valued Index objects"
     ]
    }
   ],
   "source": [
    "frame_dfs[0].append(frame_dfs[1:])"
   ],
   "metadata": {
    "collapsed": false,
    "pycharm": {
     "name": "#%%\n"
    }
   }
  },
  {
   "cell_type": "code",
   "execution_count": 23,
   "outputs": [
    {
     "data": {
      "text/plain": "                  UID   ENTITY_TYPE       ID NET_WORTH    GOLD GOLD_EARNED  \\\n0268435466  268435466  PlayerEntity  PLAYER0   18549.0  1564.0     19494.0   \n0268435467  268435467  PlayerEntity  PLAYER1   12685.0  1235.0     15436.0   \n0268435468  268435468  PlayerEntity  PLAYER2   12055.0  1840.0     13715.0   \n0268435469  268435469  PlayerEntity  PLAYER3    4420.0  2065.0      7470.0   \n0268435470  268435470  PlayerEntity  PLAYER4   10040.0  1075.0     12028.0   \n0268435471  268435471  PlayerEntity  PLAYER5    8566.0  2076.0     11857.0   \n0268435472  268435472  PlayerEntity  PLAYER6   15396.0  1706.0     16543.0   \n0268435473  268435473  PlayerEntity  PLAYER7   10556.0   206.0     12827.0   \n0268435474  268435474  PlayerEntity  PLAYER8    5785.0   370.0      8039.0   \n0268435475  268435475  PlayerEntity  PLAYER9   23867.0   777.0     25131.0   \n\n           GOLD_RELIABLE GOLD_FROM_INCOME XCURSOR  \n0268435466         176.0           3220.0   308.0  \n0268435467         136.0           3220.0   364.0  \n0268435468         700.0           3220.0   309.0  \n0268435469        1804.0           3220.0    93.0  \n0268435470         678.0           3220.0   498.0  \n0268435471         635.0           3220.0   122.0  \n0268435472         815.0           3220.0   239.0  \n0268435473         206.0           3220.0    38.0  \n0268435474         370.0           3220.0   328.0  \n0268435475         664.0           3220.0   230.0  ",
      "text/html": "<div>\n<style scoped>\n    .dataframe tbody tr th:only-of-type {\n        vertical-align: middle;\n    }\n\n    .dataframe tbody tr th {\n        vertical-align: top;\n    }\n\n    .dataframe thead th {\n        text-align: right;\n    }\n</style>\n<table border=\"1\" class=\"dataframe\">\n  <thead>\n    <tr style=\"text-align: right;\">\n      <th></th>\n      <th>UID</th>\n      <th>ENTITY_TYPE</th>\n      <th>ID</th>\n      <th>NET_WORTH</th>\n      <th>GOLD</th>\n      <th>GOLD_EARNED</th>\n      <th>GOLD_RELIABLE</th>\n      <th>GOLD_FROM_INCOME</th>\n      <th>XCURSOR</th>\n    </tr>\n  </thead>\n  <tbody>\n    <tr>\n      <th>0268435466</th>\n      <td>268435466</td>\n      <td>PlayerEntity</td>\n      <td>PLAYER0</td>\n      <td>18549.0</td>\n      <td>1564.0</td>\n      <td>19494.0</td>\n      <td>176.0</td>\n      <td>3220.0</td>\n      <td>308.0</td>\n    </tr>\n    <tr>\n      <th>0268435467</th>\n      <td>268435467</td>\n      <td>PlayerEntity</td>\n      <td>PLAYER1</td>\n      <td>12685.0</td>\n      <td>1235.0</td>\n      <td>15436.0</td>\n      <td>136.0</td>\n      <td>3220.0</td>\n      <td>364.0</td>\n    </tr>\n    <tr>\n      <th>0268435468</th>\n      <td>268435468</td>\n      <td>PlayerEntity</td>\n      <td>PLAYER2</td>\n      <td>12055.0</td>\n      <td>1840.0</td>\n      <td>13715.0</td>\n      <td>700.0</td>\n      <td>3220.0</td>\n      <td>309.0</td>\n    </tr>\n    <tr>\n      <th>0268435469</th>\n      <td>268435469</td>\n      <td>PlayerEntity</td>\n      <td>PLAYER3</td>\n      <td>4420.0</td>\n      <td>2065.0</td>\n      <td>7470.0</td>\n      <td>1804.0</td>\n      <td>3220.0</td>\n      <td>93.0</td>\n    </tr>\n    <tr>\n      <th>0268435470</th>\n      <td>268435470</td>\n      <td>PlayerEntity</td>\n      <td>PLAYER4</td>\n      <td>10040.0</td>\n      <td>1075.0</td>\n      <td>12028.0</td>\n      <td>678.0</td>\n      <td>3220.0</td>\n      <td>498.0</td>\n    </tr>\n    <tr>\n      <th>0268435471</th>\n      <td>268435471</td>\n      <td>PlayerEntity</td>\n      <td>PLAYER5</td>\n      <td>8566.0</td>\n      <td>2076.0</td>\n      <td>11857.0</td>\n      <td>635.0</td>\n      <td>3220.0</td>\n      <td>122.0</td>\n    </tr>\n    <tr>\n      <th>0268435472</th>\n      <td>268435472</td>\n      <td>PlayerEntity</td>\n      <td>PLAYER6</td>\n      <td>15396.0</td>\n      <td>1706.0</td>\n      <td>16543.0</td>\n      <td>815.0</td>\n      <td>3220.0</td>\n      <td>239.0</td>\n    </tr>\n    <tr>\n      <th>0268435473</th>\n      <td>268435473</td>\n      <td>PlayerEntity</td>\n      <td>PLAYER7</td>\n      <td>10556.0</td>\n      <td>206.0</td>\n      <td>12827.0</td>\n      <td>206.0</td>\n      <td>3220.0</td>\n      <td>38.0</td>\n    </tr>\n    <tr>\n      <th>0268435474</th>\n      <td>268435474</td>\n      <td>PlayerEntity</td>\n      <td>PLAYER8</td>\n      <td>5785.0</td>\n      <td>370.0</td>\n      <td>8039.0</td>\n      <td>370.0</td>\n      <td>3220.0</td>\n      <td>328.0</td>\n    </tr>\n    <tr>\n      <th>0268435475</th>\n      <td>268435475</td>\n      <td>PlayerEntity</td>\n      <td>PLAYER9</td>\n      <td>23867.0</td>\n      <td>777.0</td>\n      <td>25131.0</td>\n      <td>664.0</td>\n      <td>3220.0</td>\n      <td>230.0</td>\n    </tr>\n  </tbody>\n</table>\n</div>"
     },
     "execution_count": 23,
     "metadata": {},
     "output_type": "execute_result"
    }
   ],
   "source": [
    "df1 = df[df['ENTITY_TYPE']==\"PlayerEntity\"].dropna(axis=1)\n",
    "df1"
   ],
   "metadata": {
    "collapsed": false,
    "pycharm": {
     "name": "#%%\n"
    }
   }
  },
  {
   "cell_type": "code",
   "execution_count": 39,
   "outputs": [
    {
     "data": {
      "text/plain": "                  UID ENTITY_TYPE     ID GAME_TIME CLOCK_TIME TIME_IN_PHASE  \\\n0268435723  268435723  HeroEntity  HERO0       NaN        NaN           NaN   \n0268435724  268435724  HeroEntity  HERO1       NaN        NaN           NaN   \n0268435725  268435725  HeroEntity  HERO2       NaN        NaN           NaN   \n0268435726  268435726  HeroEntity  HERO3       NaN        NaN           NaN   \n0268435727  268435727  HeroEntity  HERO4       NaN        NaN           NaN   \n0268435728  268435728  HeroEntity  HERO5       NaN        NaN           NaN   \n0268435729  268435729  HeroEntity  HERO6       NaN        NaN           NaN   \n0268435730  268435730  HeroEntity  HERO7       NaN        NaN           NaN   \n0268435732  268435732  HeroEntity  HERO9       NaN        NaN           NaN   \n\n           MILLISECONDS_SINCE_GAME_START FRAMEINDEX KEYFRAME RadiantLastHits  \\\n0268435723                           NaN        NaN      NaN             NaN   \n0268435724                           NaN        NaN      NaN             NaN   \n0268435725                           NaN        NaN      NaN             NaN   \n0268435726                           NaN        NaN      NaN             NaN   \n0268435727                           NaN        NaN      NaN             NaN   \n0268435728                           NaN        NaN      NaN             NaN   \n0268435729                           NaN        NaN      NaN             NaN   \n0268435730                           NaN        NaN      NaN             NaN   \n0268435732                           NaN        NaN      NaN             NaN   \n\n            ...        YPOS   MANA MANA_PERCENT HEALTH_REGEN MANA_REGEN  \\\n0268435723  ...  -4021.9375    NaN          NaN          NaN        NaN   \n0268435724  ...   5784.5625    NaN          NaN          NaN        NaN   \n0268435725  ...   -2455.125    NaN          NaN          NaN        NaN   \n0268435726  ...     -5147.0  365.0     73.88664          NaN        NaN   \n0268435727  ...  1158.28125    NaN          NaN          NaN        NaN   \n0268435728  ...   5468.6875  620.0    74.698795          NaN        NaN   \n0268435729  ...   5204.3125    NaN          NaN    172.31967        NaN   \n0268435730  ...      2321.0    NaN          NaN          NaN        NaN   \n0268435732  ...  1232.53125  622.0    82.058047          NaN   6.366356   \n\n           TOTAL_AGILITY DAMAGE_MIN DAMAGE_MAX DAMAGE_BONUS COOLDOWN_LENGTH  \n0268435723           NaN        NaN        NaN          NaN             NaN  \n0268435724           NaN        NaN        NaN          NaN             NaN  \n0268435725           NaN        NaN        NaN          NaN             NaN  \n0268435726           NaN        NaN        NaN          NaN             NaN  \n0268435727           NaN        NaN        NaN          NaN             NaN  \n0268435728           NaN        NaN        NaN          NaN             NaN  \n0268435729           NaN        NaN        NaN          NaN             NaN  \n0268435730           NaN        NaN        NaN          NaN             NaN  \n0268435732    155.800018        181        187           85             NaN  \n\n[9 rows x 40 columns]",
      "text/html": "<div>\n<style scoped>\n    .dataframe tbody tr th:only-of-type {\n        vertical-align: middle;\n    }\n\n    .dataframe tbody tr th {\n        vertical-align: top;\n    }\n\n    .dataframe thead th {\n        text-align: right;\n    }\n</style>\n<table border=\"1\" class=\"dataframe\">\n  <thead>\n    <tr style=\"text-align: right;\">\n      <th></th>\n      <th>UID</th>\n      <th>ENTITY_TYPE</th>\n      <th>ID</th>\n      <th>GAME_TIME</th>\n      <th>CLOCK_TIME</th>\n      <th>TIME_IN_PHASE</th>\n      <th>MILLISECONDS_SINCE_GAME_START</th>\n      <th>FRAMEINDEX</th>\n      <th>KEYFRAME</th>\n      <th>RadiantLastHits</th>\n      <th>...</th>\n      <th>YPOS</th>\n      <th>MANA</th>\n      <th>MANA_PERCENT</th>\n      <th>HEALTH_REGEN</th>\n      <th>MANA_REGEN</th>\n      <th>TOTAL_AGILITY</th>\n      <th>DAMAGE_MIN</th>\n      <th>DAMAGE_MAX</th>\n      <th>DAMAGE_BONUS</th>\n      <th>COOLDOWN_LENGTH</th>\n    </tr>\n  </thead>\n  <tbody>\n    <tr>\n      <th>0268435723</th>\n      <td>268435723</td>\n      <td>HeroEntity</td>\n      <td>HERO0</td>\n      <td>NaN</td>\n      <td>NaN</td>\n      <td>NaN</td>\n      <td>NaN</td>\n      <td>NaN</td>\n      <td>NaN</td>\n      <td>NaN</td>\n      <td>...</td>\n      <td>-4021.9375</td>\n      <td>NaN</td>\n      <td>NaN</td>\n      <td>NaN</td>\n      <td>NaN</td>\n      <td>NaN</td>\n      <td>NaN</td>\n      <td>NaN</td>\n      <td>NaN</td>\n      <td>NaN</td>\n    </tr>\n    <tr>\n      <th>0268435724</th>\n      <td>268435724</td>\n      <td>HeroEntity</td>\n      <td>HERO1</td>\n      <td>NaN</td>\n      <td>NaN</td>\n      <td>NaN</td>\n      <td>NaN</td>\n      <td>NaN</td>\n      <td>NaN</td>\n      <td>NaN</td>\n      <td>...</td>\n      <td>5784.5625</td>\n      <td>NaN</td>\n      <td>NaN</td>\n      <td>NaN</td>\n      <td>NaN</td>\n      <td>NaN</td>\n      <td>NaN</td>\n      <td>NaN</td>\n      <td>NaN</td>\n      <td>NaN</td>\n    </tr>\n    <tr>\n      <th>0268435725</th>\n      <td>268435725</td>\n      <td>HeroEntity</td>\n      <td>HERO2</td>\n      <td>NaN</td>\n      <td>NaN</td>\n      <td>NaN</td>\n      <td>NaN</td>\n      <td>NaN</td>\n      <td>NaN</td>\n      <td>NaN</td>\n      <td>...</td>\n      <td>-2455.125</td>\n      <td>NaN</td>\n      <td>NaN</td>\n      <td>NaN</td>\n      <td>NaN</td>\n      <td>NaN</td>\n      <td>NaN</td>\n      <td>NaN</td>\n      <td>NaN</td>\n      <td>NaN</td>\n    </tr>\n    <tr>\n      <th>0268435726</th>\n      <td>268435726</td>\n      <td>HeroEntity</td>\n      <td>HERO3</td>\n      <td>NaN</td>\n      <td>NaN</td>\n      <td>NaN</td>\n      <td>NaN</td>\n      <td>NaN</td>\n      <td>NaN</td>\n      <td>NaN</td>\n      <td>...</td>\n      <td>-5147.0</td>\n      <td>365.0</td>\n      <td>73.88664</td>\n      <td>NaN</td>\n      <td>NaN</td>\n      <td>NaN</td>\n      <td>NaN</td>\n      <td>NaN</td>\n      <td>NaN</td>\n      <td>NaN</td>\n    </tr>\n    <tr>\n      <th>0268435727</th>\n      <td>268435727</td>\n      <td>HeroEntity</td>\n      <td>HERO4</td>\n      <td>NaN</td>\n      <td>NaN</td>\n      <td>NaN</td>\n      <td>NaN</td>\n      <td>NaN</td>\n      <td>NaN</td>\n      <td>NaN</td>\n      <td>...</td>\n      <td>1158.28125</td>\n      <td>NaN</td>\n      <td>NaN</td>\n      <td>NaN</td>\n      <td>NaN</td>\n      <td>NaN</td>\n      <td>NaN</td>\n      <td>NaN</td>\n      <td>NaN</td>\n      <td>NaN</td>\n    </tr>\n    <tr>\n      <th>0268435728</th>\n      <td>268435728</td>\n      <td>HeroEntity</td>\n      <td>HERO5</td>\n      <td>NaN</td>\n      <td>NaN</td>\n      <td>NaN</td>\n      <td>NaN</td>\n      <td>NaN</td>\n      <td>NaN</td>\n      <td>NaN</td>\n      <td>...</td>\n      <td>5468.6875</td>\n      <td>620.0</td>\n      <td>74.698795</td>\n      <td>NaN</td>\n      <td>NaN</td>\n      <td>NaN</td>\n      <td>NaN</td>\n      <td>NaN</td>\n      <td>NaN</td>\n      <td>NaN</td>\n    </tr>\n    <tr>\n      <th>0268435729</th>\n      <td>268435729</td>\n      <td>HeroEntity</td>\n      <td>HERO6</td>\n      <td>NaN</td>\n      <td>NaN</td>\n      <td>NaN</td>\n      <td>NaN</td>\n      <td>NaN</td>\n      <td>NaN</td>\n      <td>NaN</td>\n      <td>...</td>\n      <td>5204.3125</td>\n      <td>NaN</td>\n      <td>NaN</td>\n      <td>172.31967</td>\n      <td>NaN</td>\n      <td>NaN</td>\n      <td>NaN</td>\n      <td>NaN</td>\n      <td>NaN</td>\n      <td>NaN</td>\n    </tr>\n    <tr>\n      <th>0268435730</th>\n      <td>268435730</td>\n      <td>HeroEntity</td>\n      <td>HERO7</td>\n      <td>NaN</td>\n      <td>NaN</td>\n      <td>NaN</td>\n      <td>NaN</td>\n      <td>NaN</td>\n      <td>NaN</td>\n      <td>NaN</td>\n      <td>...</td>\n      <td>2321.0</td>\n      <td>NaN</td>\n      <td>NaN</td>\n      <td>NaN</td>\n      <td>NaN</td>\n      <td>NaN</td>\n      <td>NaN</td>\n      <td>NaN</td>\n      <td>NaN</td>\n      <td>NaN</td>\n    </tr>\n    <tr>\n      <th>0268435732</th>\n      <td>268435732</td>\n      <td>HeroEntity</td>\n      <td>HERO9</td>\n      <td>NaN</td>\n      <td>NaN</td>\n      <td>NaN</td>\n      <td>NaN</td>\n      <td>NaN</td>\n      <td>NaN</td>\n      <td>NaN</td>\n      <td>...</td>\n      <td>1232.53125</td>\n      <td>622.0</td>\n      <td>82.058047</td>\n      <td>NaN</td>\n      <td>6.366356</td>\n      <td>155.800018</td>\n      <td>181</td>\n      <td>187</td>\n      <td>85</td>\n      <td>NaN</td>\n    </tr>\n  </tbody>\n</table>\n<p>9 rows × 40 columns</p>\n</div>"
     },
     "execution_count": 39,
     "metadata": {},
     "output_type": "execute_result"
    }
   ],
   "source": [
    "df2 = df[df['ENTITY_TYPE']==\"HeroEntity\"]\n",
    "df2"
   ],
   "metadata": {
    "collapsed": false,
    "pycharm": {
     "name": "#%%\n"
    }
   }
  },
  {
   "cell_type": "code",
   "execution_count": 19,
   "outputs": [
    {
     "ename": "NameError",
     "evalue": "name 'df1' is not defined",
     "output_type": "error",
     "traceback": [
      "\u001B[1;31m---------------------------------------------------------------------------\u001B[0m",
      "\u001B[1;31mNameError\u001B[0m                                 Traceback (most recent call last)",
      "\u001B[1;32m~\\AppData\\Local\\Temp/ipykernel_10772/2749151770.py\u001B[0m in \u001B[0;36m<module>\u001B[1;34m\u001B[0m\n\u001B[1;32m----> 1\u001B[1;33m \u001B[0mpd\u001B[0m\u001B[1;33m.\u001B[0m\u001B[0mconcat\u001B[0m\u001B[1;33m(\u001B[0m\u001B[1;33m[\u001B[0m\u001B[0mdf1\u001B[0m\u001B[1;33m.\u001B[0m\u001B[0mset_index\u001B[0m\u001B[1;33m(\u001B[0m\u001B[1;34m'ID'\u001B[0m\u001B[1;33m)\u001B[0m\u001B[1;33m,\u001B[0m\u001B[0mdf2\u001B[0m\u001B[1;33m.\u001B[0m\u001B[0mset_index\u001B[0m\u001B[1;33m(\u001B[0m\u001B[1;34m'ID'\u001B[0m\u001B[1;33m)\u001B[0m\u001B[1;33m]\u001B[0m\u001B[1;33m,\u001B[0m \u001B[0maxis\u001B[0m\u001B[1;33m=\u001B[0m\u001B[1;36m1\u001B[0m\u001B[1;33m,\u001B[0m \u001B[0mjoin\u001B[0m\u001B[1;33m=\u001B[0m\u001B[1;34m'inner'\u001B[0m\u001B[1;33m)\u001B[0m\u001B[1;33m\u001B[0m\u001B[1;33m\u001B[0m\u001B[0m\n\u001B[0m\u001B[0;32m      2\u001B[0m \u001B[1;33m\u001B[0m\u001B[0m\n",
      "\u001B[1;31mNameError\u001B[0m: name 'df1' is not defined"
     ]
    }
   ],
   "source": [
    "df\n"
   ],
   "metadata": {
    "collapsed": false,
    "pycharm": {
     "name": "#%%\n"
    }
   }
  },
  {
   "cell_type": "code",
   "execution_count": 74,
   "outputs": [
    {
     "name": "stdout",
     "output_type": "stream",
     "text": [
      "MAP\n",
      "PLAYER3\n",
      "PLAYER4\n",
      "PLAYER6\n",
      "PLAYER9\n"
     ]
    }
   ],
   "source": [
    "for frame_number,frame_val in first_frame.items():\n",
    "    print(frame_val[\"ID\"])"
   ],
   "metadata": {
    "collapsed": false,
    "pycharm": {
     "name": "#%%\n"
    }
   }
  },
  {
   "cell_type": "markdown",
   "source": [],
   "metadata": {
    "collapsed": false,
    "pycharm": {
     "name": "#%% md\n"
    }
   }
  },
  {
   "cell_type": "code",
   "execution_count": 32,
   "outputs": [
    {
     "data": {
      "text/plain": "                  UID     ENTITY_TYPE       ID  GAME_TIME CLOCK_TIME  \\\n0000000000          0  Dota2MapEntity      MAP  58.766113  58.766113   \n0268435466  268435466    PlayerEntity  PLAYER0        NaN        NaN   \n0268435467  268435467    PlayerEntity  PLAYER1        NaN        NaN   \n0268435468  268435468    PlayerEntity  PLAYER2        NaN        NaN   \n0268435469  268435469    PlayerEntity  PLAYER3        NaN        NaN   \n0268435470  268435470    PlayerEntity  PLAYER4        NaN        NaN   \n0268435472  268435472    PlayerEntity  PLAYER6        NaN        NaN   \n0268435473  268435473    PlayerEntity  PLAYER7        NaN        NaN   \n0268435475  268435475    PlayerEntity  PLAYER9        NaN        NaN   \n\n           TIME_IN_PHASE MILLISECONDS_SINCE_GAME_START FRAMEINDEX KEYFRAME  \\\n0000000000     58.766113                       51000.0         50    False   \n0268435466           NaN                           NaN        NaN      NaN   \n0268435467           NaN                           NaN        NaN      NaN   \n0268435468           NaN                           NaN        NaN      NaN   \n0268435469           NaN                           NaN        NaN      NaN   \n0268435470           NaN                           NaN        NaN      NaN   \n0268435472           NaN                           NaN        NaN      NaN   \n0268435473           NaN                           NaN        NaN      NaN   \n0268435475           NaN                           NaN        NaN      NaN   \n\n           XCURSOR YCURSOR  \n0000000000     NaN     NaN  \n0268435466   289.0   148.0  \n0268435467   303.0   145.0  \n0268435468   306.0     NaN  \n0268435469     0.0     0.0  \n0268435470   312.0    39.0  \n0268435472   273.0   189.0  \n0268435473   331.0   138.0  \n0268435475   259.0   135.0  ",
      "text/html": "<div>\n<style scoped>\n    .dataframe tbody tr th:only-of-type {\n        vertical-align: middle;\n    }\n\n    .dataframe tbody tr th {\n        vertical-align: top;\n    }\n\n    .dataframe thead th {\n        text-align: right;\n    }\n</style>\n<table border=\"1\" class=\"dataframe\">\n  <thead>\n    <tr style=\"text-align: right;\">\n      <th></th>\n      <th>UID</th>\n      <th>ENTITY_TYPE</th>\n      <th>ID</th>\n      <th>GAME_TIME</th>\n      <th>CLOCK_TIME</th>\n      <th>TIME_IN_PHASE</th>\n      <th>MILLISECONDS_SINCE_GAME_START</th>\n      <th>FRAMEINDEX</th>\n      <th>KEYFRAME</th>\n      <th>XCURSOR</th>\n      <th>YCURSOR</th>\n    </tr>\n  </thead>\n  <tbody>\n    <tr>\n      <th>0000000000</th>\n      <td>0</td>\n      <td>Dota2MapEntity</td>\n      <td>MAP</td>\n      <td>58.766113</td>\n      <td>58.766113</td>\n      <td>58.766113</td>\n      <td>51000.0</td>\n      <td>50</td>\n      <td>False</td>\n      <td>NaN</td>\n      <td>NaN</td>\n    </tr>\n    <tr>\n      <th>0268435466</th>\n      <td>268435466</td>\n      <td>PlayerEntity</td>\n      <td>PLAYER0</td>\n      <td>NaN</td>\n      <td>NaN</td>\n      <td>NaN</td>\n      <td>NaN</td>\n      <td>NaN</td>\n      <td>NaN</td>\n      <td>289.0</td>\n      <td>148.0</td>\n    </tr>\n    <tr>\n      <th>0268435467</th>\n      <td>268435467</td>\n      <td>PlayerEntity</td>\n      <td>PLAYER1</td>\n      <td>NaN</td>\n      <td>NaN</td>\n      <td>NaN</td>\n      <td>NaN</td>\n      <td>NaN</td>\n      <td>NaN</td>\n      <td>303.0</td>\n      <td>145.0</td>\n    </tr>\n    <tr>\n      <th>0268435468</th>\n      <td>268435468</td>\n      <td>PlayerEntity</td>\n      <td>PLAYER2</td>\n      <td>NaN</td>\n      <td>NaN</td>\n      <td>NaN</td>\n      <td>NaN</td>\n      <td>NaN</td>\n      <td>NaN</td>\n      <td>306.0</td>\n      <td>NaN</td>\n    </tr>\n    <tr>\n      <th>0268435469</th>\n      <td>268435469</td>\n      <td>PlayerEntity</td>\n      <td>PLAYER3</td>\n      <td>NaN</td>\n      <td>NaN</td>\n      <td>NaN</td>\n      <td>NaN</td>\n      <td>NaN</td>\n      <td>NaN</td>\n      <td>0.0</td>\n      <td>0.0</td>\n    </tr>\n    <tr>\n      <th>0268435470</th>\n      <td>268435470</td>\n      <td>PlayerEntity</td>\n      <td>PLAYER4</td>\n      <td>NaN</td>\n      <td>NaN</td>\n      <td>NaN</td>\n      <td>NaN</td>\n      <td>NaN</td>\n      <td>NaN</td>\n      <td>312.0</td>\n      <td>39.0</td>\n    </tr>\n    <tr>\n      <th>0268435472</th>\n      <td>268435472</td>\n      <td>PlayerEntity</td>\n      <td>PLAYER6</td>\n      <td>NaN</td>\n      <td>NaN</td>\n      <td>NaN</td>\n      <td>NaN</td>\n      <td>NaN</td>\n      <td>NaN</td>\n      <td>273.0</td>\n      <td>189.0</td>\n    </tr>\n    <tr>\n      <th>0268435473</th>\n      <td>268435473</td>\n      <td>PlayerEntity</td>\n      <td>PLAYER7</td>\n      <td>NaN</td>\n      <td>NaN</td>\n      <td>NaN</td>\n      <td>NaN</td>\n      <td>NaN</td>\n      <td>NaN</td>\n      <td>331.0</td>\n      <td>138.0</td>\n    </tr>\n    <tr>\n      <th>0268435475</th>\n      <td>268435475</td>\n      <td>PlayerEntity</td>\n      <td>PLAYER9</td>\n      <td>NaN</td>\n      <td>NaN</td>\n      <td>NaN</td>\n      <td>NaN</td>\n      <td>NaN</td>\n      <td>NaN</td>\n      <td>259.0</td>\n      <td>135.0</td>\n    </tr>\n  </tbody>\n</table>\n</div>"
     },
     "execution_count": 32,
     "metadata": {},
     "output_type": "execute_result"
    }
   ],
   "source": [
    "df = pd.DataFrame(raw_data[\"frames\"][50][\"Entities\"])\n",
    "df.T\n"
   ],
   "metadata": {
    "collapsed": false,
    "pycharm": {
     "name": "#%%\n"
    }
   }
  },
  {
   "cell_type": "code",
   "execution_count": 28,
   "outputs": [
    {
     "data": {
      "text/plain": "            DataVersion                                           Entities  \\\n0000000000          1.0  {'UID': 0, 'ENTITY_TYPE': 'Dota2MapEntity', 'I...   \n0268435456          1.0  {'UID': 268435456, 'ENTITY_TYPE': 'Dota2MapReg...   \n0268435457          1.0  {'UID': 268435457, 'ENTITY_TYPE': 'Dota2MapReg...   \n0268435458          1.0  {'UID': 268435458, 'ENTITY_TYPE': 'Dota2MapReg...   \n0268435459          1.0  {'UID': 268435459, 'ENTITY_TYPE': 'Dota2MapReg...   \n0268435460          1.0  {'UID': 268435460, 'ENTITY_TYPE': 'Dota2MapReg...   \n0268435461          1.0  {'UID': 268435461, 'ENTITY_TYPE': 'Dota2MapReg...   \n0268435462          1.0  {'UID': 268435462, 'ENTITY_TYPE': 'Dota2MapReg...   \n0268435463          1.0  {'UID': 268435463, 'ENTITY_TYPE': 'Dota2MapReg...   \n0268435464          1.0  {'UID': 268435464, 'ENTITY_TYPE': 'Dota2MapReg...   \n0268435465          1.0  {'UID': 268435465, 'ENTITY_TYPE': 'Dota2MapReg...   \n0268435466          1.0  {'UID': 268435466, 'ENTITY_TYPE': 'PlayerEntit...   \n0268435467          1.0  {'UID': 268435467, 'ENTITY_TYPE': 'PlayerEntit...   \n0268435468          1.0  {'UID': 268435468, 'ENTITY_TYPE': 'PlayerEntit...   \n0268435469          1.0  {'UID': 268435469, 'ENTITY_TYPE': 'PlayerEntit...   \n0268435470          1.0  {'UID': 268435470, 'ENTITY_TYPE': 'PlayerEntit...   \n0268435471          1.0  {'UID': 268435471, 'ENTITY_TYPE': 'PlayerEntit...   \n0268435472          1.0  {'UID': 268435472, 'ENTITY_TYPE': 'PlayerEntit...   \n0268435473          1.0  {'UID': 268435473, 'ENTITY_TYPE': 'PlayerEntit...   \n0268435474          1.0  {'UID': 268435474, 'ENTITY_TYPE': 'PlayerEntit...   \n0268435475          1.0  {'UID': 268435475, 'ENTITY_TYPE': 'PlayerEntit...   \n0268435476          1.0  {'UID': 268435476, 'ENTITY_TYPE': 'TeamEntity'...   \n0268435477          1.0  {'UID': 268435477, 'ENTITY_TYPE': 'TeamEntity'...   \n\n            Events  \n0000000000     NaN  \n0268435456     NaN  \n0268435457     NaN  \n0268435458     NaN  \n0268435459     NaN  \n0268435460     NaN  \n0268435461     NaN  \n0268435462     NaN  \n0268435463     NaN  \n0268435464     NaN  \n0268435465     NaN  \n0268435466     NaN  \n0268435467     NaN  \n0268435468     NaN  \n0268435469     NaN  \n0268435470     NaN  \n0268435471     NaN  \n0268435472     NaN  \n0268435473     NaN  \n0268435474     NaN  \n0268435475     NaN  \n0268435476     NaN  \n0268435477     NaN  ",
      "text/html": "<div>\n<style scoped>\n    .dataframe tbody tr th:only-of-type {\n        vertical-align: middle;\n    }\n\n    .dataframe tbody tr th {\n        vertical-align: top;\n    }\n\n    .dataframe thead th {\n        text-align: right;\n    }\n</style>\n<table border=\"1\" class=\"dataframe\">\n  <thead>\n    <tr style=\"text-align: right;\">\n      <th></th>\n      <th>DataVersion</th>\n      <th>Entities</th>\n      <th>Events</th>\n    </tr>\n  </thead>\n  <tbody>\n    <tr>\n      <th>0000000000</th>\n      <td>1.0</td>\n      <td>{'UID': 0, 'ENTITY_TYPE': 'Dota2MapEntity', 'I...</td>\n      <td>NaN</td>\n    </tr>\n    <tr>\n      <th>0268435456</th>\n      <td>1.0</td>\n      <td>{'UID': 268435456, 'ENTITY_TYPE': 'Dota2MapReg...</td>\n      <td>NaN</td>\n    </tr>\n    <tr>\n      <th>0268435457</th>\n      <td>1.0</td>\n      <td>{'UID': 268435457, 'ENTITY_TYPE': 'Dota2MapReg...</td>\n      <td>NaN</td>\n    </tr>\n    <tr>\n      <th>0268435458</th>\n      <td>1.0</td>\n      <td>{'UID': 268435458, 'ENTITY_TYPE': 'Dota2MapReg...</td>\n      <td>NaN</td>\n    </tr>\n    <tr>\n      <th>0268435459</th>\n      <td>1.0</td>\n      <td>{'UID': 268435459, 'ENTITY_TYPE': 'Dota2MapReg...</td>\n      <td>NaN</td>\n    </tr>\n    <tr>\n      <th>0268435460</th>\n      <td>1.0</td>\n      <td>{'UID': 268435460, 'ENTITY_TYPE': 'Dota2MapReg...</td>\n      <td>NaN</td>\n    </tr>\n    <tr>\n      <th>0268435461</th>\n      <td>1.0</td>\n      <td>{'UID': 268435461, 'ENTITY_TYPE': 'Dota2MapReg...</td>\n      <td>NaN</td>\n    </tr>\n    <tr>\n      <th>0268435462</th>\n      <td>1.0</td>\n      <td>{'UID': 268435462, 'ENTITY_TYPE': 'Dota2MapReg...</td>\n      <td>NaN</td>\n    </tr>\n    <tr>\n      <th>0268435463</th>\n      <td>1.0</td>\n      <td>{'UID': 268435463, 'ENTITY_TYPE': 'Dota2MapReg...</td>\n      <td>NaN</td>\n    </tr>\n    <tr>\n      <th>0268435464</th>\n      <td>1.0</td>\n      <td>{'UID': 268435464, 'ENTITY_TYPE': 'Dota2MapReg...</td>\n      <td>NaN</td>\n    </tr>\n    <tr>\n      <th>0268435465</th>\n      <td>1.0</td>\n      <td>{'UID': 268435465, 'ENTITY_TYPE': 'Dota2MapReg...</td>\n      <td>NaN</td>\n    </tr>\n    <tr>\n      <th>0268435466</th>\n      <td>1.0</td>\n      <td>{'UID': 268435466, 'ENTITY_TYPE': 'PlayerEntit...</td>\n      <td>NaN</td>\n    </tr>\n    <tr>\n      <th>0268435467</th>\n      <td>1.0</td>\n      <td>{'UID': 268435467, 'ENTITY_TYPE': 'PlayerEntit...</td>\n      <td>NaN</td>\n    </tr>\n    <tr>\n      <th>0268435468</th>\n      <td>1.0</td>\n      <td>{'UID': 268435468, 'ENTITY_TYPE': 'PlayerEntit...</td>\n      <td>NaN</td>\n    </tr>\n    <tr>\n      <th>0268435469</th>\n      <td>1.0</td>\n      <td>{'UID': 268435469, 'ENTITY_TYPE': 'PlayerEntit...</td>\n      <td>NaN</td>\n    </tr>\n    <tr>\n      <th>0268435470</th>\n      <td>1.0</td>\n      <td>{'UID': 268435470, 'ENTITY_TYPE': 'PlayerEntit...</td>\n      <td>NaN</td>\n    </tr>\n    <tr>\n      <th>0268435471</th>\n      <td>1.0</td>\n      <td>{'UID': 268435471, 'ENTITY_TYPE': 'PlayerEntit...</td>\n      <td>NaN</td>\n    </tr>\n    <tr>\n      <th>0268435472</th>\n      <td>1.0</td>\n      <td>{'UID': 268435472, 'ENTITY_TYPE': 'PlayerEntit...</td>\n      <td>NaN</td>\n    </tr>\n    <tr>\n      <th>0268435473</th>\n      <td>1.0</td>\n      <td>{'UID': 268435473, 'ENTITY_TYPE': 'PlayerEntit...</td>\n      <td>NaN</td>\n    </tr>\n    <tr>\n      <th>0268435474</th>\n      <td>1.0</td>\n      <td>{'UID': 268435474, 'ENTITY_TYPE': 'PlayerEntit...</td>\n      <td>NaN</td>\n    </tr>\n    <tr>\n      <th>0268435475</th>\n      <td>1.0</td>\n      <td>{'UID': 268435475, 'ENTITY_TYPE': 'PlayerEntit...</td>\n      <td>NaN</td>\n    </tr>\n    <tr>\n      <th>0268435476</th>\n      <td>1.0</td>\n      <td>{'UID': 268435476, 'ENTITY_TYPE': 'TeamEntity'...</td>\n      <td>NaN</td>\n    </tr>\n    <tr>\n      <th>0268435477</th>\n      <td>1.0</td>\n      <td>{'UID': 268435477, 'ENTITY_TYPE': 'TeamEntity'...</td>\n      <td>NaN</td>\n    </tr>\n  </tbody>\n</table>\n</div>"
     },
     "execution_count": 28,
     "metadata": {},
     "output_type": "execute_result"
    }
   ],
   "source": [],
   "metadata": {
    "collapsed": false,
    "pycharm": {
     "name": "#%%\n"
    }
   }
  }
 ],
 "metadata": {
  "kernelspec": {
   "display_name": "Python 3",
   "language": "python",
   "name": "python3"
  },
  "language_info": {
   "codemirror_mode": {
    "name": "ipython",
    "version": 2
   },
   "file_extension": ".py",
   "mimetype": "text/x-python",
   "name": "python",
   "nbconvert_exporter": "python",
   "pygments_lexer": "ipython2",
   "version": "2.7.6"
  }
 },
 "nbformat": 4,
 "nbformat_minor": 0
}