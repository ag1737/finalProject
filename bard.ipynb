{
 "cells": [
  {
   "cell_type": "code",
   "execution_count": 86,
   "metadata": {
    "collapsed": true
   },
   "outputs": [],
   "source": [
    "from utils import game\n",
    "import os"
   ]
  },
  {
   "cell_type": "code",
   "execution_count": 87,
   "outputs": [],
   "source": [
    "from utils.game import Game\n",
    "from utils.data_loader import DataLoader\n",
    "from tqdm import tqdm\n",
    "import sklearn\n",
    "%autoreload 2"
   ],
   "metadata": {
    "collapsed": false,
    "pycharm": {
     "name": "#%%\n"
    }
   }
  },
  {
   "cell_type": "code",
   "execution_count": 88,
   "outputs": [],
   "source": [
    "dl = DataLoader(\"game_data\")"
   ],
   "metadata": {
    "collapsed": false,
    "pycharm": {
     "name": "#%%\n"
    }
   }
  },
  {
   "cell_type": "code",
   "execution_count": 91,
   "outputs": [
    {
     "data": {
      "text/plain": "{'5492147125': <utils.game.Game at 0x272c321b730>,\n '5492227432': <utils.game.Game at 0x2711b0b4df0>,\n '5492324283': <utils.game.Game at 0x2738310de50>,\n '5492375229': <utils.game.Game at 0x272c32fd6d0>,\n '5492415037': <utils.game.Game at 0x272c321b940>,\n '5492471388': <utils.game.Game at 0x272c323a2b0>,\n '5492505653': <utils.game.Game at 0x272c323a040>,\n '5492814659': <utils.game.Game at 0x272c323a400>,\n '5492880810': <utils.game.Game at 0x272e6651a90>,\n '5492976808': <utils.game.Game at 0x272c31fc1c0>,\n '5493036539': <utils.game.Game at 0x271eb3f4100>,\n '5493104419': <utils.game.Game at 0x272c3222160>,\n '5494103618': <utils.game.Game at 0x27383e944c0>,\n '5494167127': <utils.game.Game at 0x272c32fd340>,\n '5494195431': <utils.game.Game at 0x272c321b370>,\n '5494230619': <utils.game.Game at 0x2738310deb0>,\n '5494251692': <utils.game.Game at 0x272e6651ac0>,\n '5494297555': <utils.game.Game at 0x272c36c8a30>,\n '5494358242': <utils.game.Game at 0x272c36c8190>,\n '5494373956': <utils.game.Game at 0x272c36c8a60>,\n '5494436377': <utils.game.Game at 0x272c321bcd0>,\n '5494489946': <utils.game.Game at 0x27383e94400>,\n '5494563706': <utils.game.Game at 0x27383b99bb0>,\n '5494571133': <utils.game.Game at 0x272c36927c0>,\n '5494646356': <utils.game.Game at 0x272c3692520>,\n '5495120715': <utils.game.Game at 0x2738310ddc0>,\n '5495184096': <utils.game.Game at 0x27383b99b20>,\n '5495220323': <utils.game.Game at 0x27322a35580>}"
     },
     "execution_count": 91,
     "metadata": {},
     "output_type": "execute_result"
    }
   ],
   "source": [
    "dl.game_dict"
   ],
   "metadata": {
    "collapsed": false,
    "pycharm": {
     "name": "#%%\n"
    }
   }
  },
  {
   "cell_type": "code",
   "execution_count": 89,
   "outputs": [
    {
     "name": "stderr",
     "output_type": "stream",
     "text": [
      "100%|██████████| 28/28 [00:44<00:00,  1.59s/it]\n"
     ]
    }
   ],
   "source": [
    "dl.load_files()"
   ],
   "metadata": {
    "collapsed": false,
    "pycharm": {
     "name": "#%%\n"
    }
   }
  },
  {
   "cell_type": "code",
   "execution_count": 92,
   "outputs": [
    {
     "name": "stderr",
     "output_type": "stream",
     "text": [
      "C:\\Users\\Sam\\AppData\\Local\\pypoetry\\Cache\\virtualenvs\\finalproject-R1e7iEZc-py3.9\\lib\\site-packages\\swifter\\swifter.py:33: UserWarning: This pandas object has duplicate indices, and swifter may not be able to improve performance. Consider resetting the indices with `df.reset_index(drop=True)`.\n",
      "  warnings.warn(\n"
     ]
    },
    {
     "data": {
      "text/plain": "Pandas Apply:   0%|          | 0/640409 [00:00<?, ?it/s]",
      "application/vnd.jupyter.widget-view+json": {
       "version_major": 2,
       "version_minor": 0,
       "model_id": "506edf9277744223882bbb324f2fa4ea"
      }
     },
     "metadata": {},
     "output_type": "display_data"
    },
    {
     "data": {
      "text/plain": "             UID ENTITY_TYPE     ID                       NAME     PLAYER  \\\nFrame                                                                       \n872    268435723  HeroEntity  HERO0   npc_dota_hero_arc_warden  268435466   \n872    268435724  HeroEntity  HERO1       npc_dota_hero_kunkka  268435467   \n872    268435725  HeroEntity  HERO2  npc_dota_hero_enchantress  268435468   \n872    268435726  HeroEntity  HERO3   npc_dota_hero_rattletrap  268435469   \n872    268435727  HeroEntity  HERO4         npc_dota_hero_zuus  268435470   \n...          ...         ...    ...                        ...        ...   \n2859   268435729  HeroEntity  HERO5                        NaN        NaN   \n2859   268435730  HeroEntity  HERO6                        NaN        NaN   \n2859   268435731  HeroEntity  HERO7                        NaN        NaN   \n2859   268435732  HeroEntity  HERO8                        NaN        NaN   \n2859   268435733  HeroEntity  HERO9                        NaN        NaN   \n\n      BUYBACK_COOLDOWN  HEALTH     HEALTH_PERCENT  ALIVE  \\\nFrame                                                      \n872                0.0   740.0              100.0  False   \n872                0.0   800.0              100.0  False   \n872                0.0   560.0              100.0  False   \n872                0.0   720.0              100.0  False   \n872                0.0   620.0              100.0  False   \n...                ...     ...                ...    ...   \n2859               NaN  1097.0   70.7741935483871    NaN   \n2859               NaN  1840.0  94.11764705882354    NaN   \n2859               NaN  1297.0            81.0625    NaN   \n2859               NaN     NaN                NaN    NaN   \n2859               NaN     NaN                NaN    NaN   \n\n      VISIBLE_BY_OTHER_TEAM  ... TOTAL_AGILITY BASE_INTELLECT TOTAL_INTELLECT  \\\nFrame                        ...                                                \n872                   False  ...          20.0           24.0            26.0   \n872                   False  ...          17.0           18.0            21.0   \n872                   False  ...          20.0           22.0            23.0   \n872                   False  ...          13.0           18.0            18.0   \n872                   False  ...          11.0           22.0            22.0   \n...                     ...  ...           ...            ...             ...   \n2859                    NaN  ...           NaN            NaN             NaN   \n2859                    NaN  ...           NaN            NaN             NaN   \n2859                    NaN  ...           NaN            NaN             NaN   \n2859                    NaN  ...           NaN            NaN             NaN   \n2859                    NaN  ...           NaN            NaN             NaN   \n\n      MOVEMENT_SPEED DAMAGE_MIN DAMAGE_MAX DAMAGE_BONUS PHYSICAL_ARMOUR  \\\nFrame                                                                     \n872              285         51         61            2            -2.0   \n872              300         56         66            2             1.0   \n872              320         46         56            2             1.0   \n872              315         50         52            0             0.0   \n872              300         55         63            0             1.0   \n...              ...        ...        ...          ...             ...   \n2859             NaN        NaN        NaN          NaN             NaN   \n2859             NaN        NaN        NaN          NaN             NaN   \n2859             NaN        NaN        NaN          NaN             NaN   \n2859             NaN        NaN        NaN          NaN             NaN   \n2859             NaN        NaN        NaN          NaN             NaN   \n\n      MAGIC_RESISTENCE  map_position  \nFrame                                 \n872               25.0  RADIANT_BASE  \n872               25.0  RADIANT_BASE  \n872               25.0  RADIANT_BASE  \n872               25.0  RADIANT_BASE  \n872               25.0  RADIANT_BASE  \n...                ...           ...  \n2859               NaN           MID  \n2859               NaN           MID  \n2859               NaN  RADIANT_BASE  \n2859               NaN           MID  \n2859               NaN           MID  \n\n[640409 rows x 41 columns]",
      "text/html": "<div>\n<style scoped>\n    .dataframe tbody tr th:only-of-type {\n        vertical-align: middle;\n    }\n\n    .dataframe tbody tr th {\n        vertical-align: top;\n    }\n\n    .dataframe thead th {\n        text-align: right;\n    }\n</style>\n<table border=\"1\" class=\"dataframe\">\n  <thead>\n    <tr style=\"text-align: right;\">\n      <th></th>\n      <th>UID</th>\n      <th>ENTITY_TYPE</th>\n      <th>ID</th>\n      <th>NAME</th>\n      <th>PLAYER</th>\n      <th>BUYBACK_COOLDOWN</th>\n      <th>HEALTH</th>\n      <th>HEALTH_PERCENT</th>\n      <th>ALIVE</th>\n      <th>VISIBLE_BY_OTHER_TEAM</th>\n      <th>...</th>\n      <th>TOTAL_AGILITY</th>\n      <th>BASE_INTELLECT</th>\n      <th>TOTAL_INTELLECT</th>\n      <th>MOVEMENT_SPEED</th>\n      <th>DAMAGE_MIN</th>\n      <th>DAMAGE_MAX</th>\n      <th>DAMAGE_BONUS</th>\n      <th>PHYSICAL_ARMOUR</th>\n      <th>MAGIC_RESISTENCE</th>\n      <th>map_position</th>\n    </tr>\n    <tr>\n      <th>Frame</th>\n      <th></th>\n      <th></th>\n      <th></th>\n      <th></th>\n      <th></th>\n      <th></th>\n      <th></th>\n      <th></th>\n      <th></th>\n      <th></th>\n      <th></th>\n      <th></th>\n      <th></th>\n      <th></th>\n      <th></th>\n      <th></th>\n      <th></th>\n      <th></th>\n      <th></th>\n      <th></th>\n      <th></th>\n    </tr>\n  </thead>\n  <tbody>\n    <tr>\n      <th>872</th>\n      <td>268435723</td>\n      <td>HeroEntity</td>\n      <td>HERO0</td>\n      <td>npc_dota_hero_arc_warden</td>\n      <td>268435466</td>\n      <td>0.0</td>\n      <td>740.0</td>\n      <td>100.0</td>\n      <td>False</td>\n      <td>False</td>\n      <td>...</td>\n      <td>20.0</td>\n      <td>24.0</td>\n      <td>26.0</td>\n      <td>285</td>\n      <td>51</td>\n      <td>61</td>\n      <td>2</td>\n      <td>-2.0</td>\n      <td>25.0</td>\n      <td>RADIANT_BASE</td>\n    </tr>\n    <tr>\n      <th>872</th>\n      <td>268435724</td>\n      <td>HeroEntity</td>\n      <td>HERO1</td>\n      <td>npc_dota_hero_kunkka</td>\n      <td>268435467</td>\n      <td>0.0</td>\n      <td>800.0</td>\n      <td>100.0</td>\n      <td>False</td>\n      <td>False</td>\n      <td>...</td>\n      <td>17.0</td>\n      <td>18.0</td>\n      <td>21.0</td>\n      <td>300</td>\n      <td>56</td>\n      <td>66</td>\n      <td>2</td>\n      <td>1.0</td>\n      <td>25.0</td>\n      <td>RADIANT_BASE</td>\n    </tr>\n    <tr>\n      <th>872</th>\n      <td>268435725</td>\n      <td>HeroEntity</td>\n      <td>HERO2</td>\n      <td>npc_dota_hero_enchantress</td>\n      <td>268435468</td>\n      <td>0.0</td>\n      <td>560.0</td>\n      <td>100.0</td>\n      <td>False</td>\n      <td>False</td>\n      <td>...</td>\n      <td>20.0</td>\n      <td>22.0</td>\n      <td>23.0</td>\n      <td>320</td>\n      <td>46</td>\n      <td>56</td>\n      <td>2</td>\n      <td>1.0</td>\n      <td>25.0</td>\n      <td>RADIANT_BASE</td>\n    </tr>\n    <tr>\n      <th>872</th>\n      <td>268435726</td>\n      <td>HeroEntity</td>\n      <td>HERO3</td>\n      <td>npc_dota_hero_rattletrap</td>\n      <td>268435469</td>\n      <td>0.0</td>\n      <td>720.0</td>\n      <td>100.0</td>\n      <td>False</td>\n      <td>False</td>\n      <td>...</td>\n      <td>13.0</td>\n      <td>18.0</td>\n      <td>18.0</td>\n      <td>315</td>\n      <td>50</td>\n      <td>52</td>\n      <td>0</td>\n      <td>0.0</td>\n      <td>25.0</td>\n      <td>RADIANT_BASE</td>\n    </tr>\n    <tr>\n      <th>872</th>\n      <td>268435727</td>\n      <td>HeroEntity</td>\n      <td>HERO4</td>\n      <td>npc_dota_hero_zuus</td>\n      <td>268435470</td>\n      <td>0.0</td>\n      <td>620.0</td>\n      <td>100.0</td>\n      <td>False</td>\n      <td>False</td>\n      <td>...</td>\n      <td>11.0</td>\n      <td>22.0</td>\n      <td>22.0</td>\n      <td>300</td>\n      <td>55</td>\n      <td>63</td>\n      <td>0</td>\n      <td>1.0</td>\n      <td>25.0</td>\n      <td>RADIANT_BASE</td>\n    </tr>\n    <tr>\n      <th>...</th>\n      <td>...</td>\n      <td>...</td>\n      <td>...</td>\n      <td>...</td>\n      <td>...</td>\n      <td>...</td>\n      <td>...</td>\n      <td>...</td>\n      <td>...</td>\n      <td>...</td>\n      <td>...</td>\n      <td>...</td>\n      <td>...</td>\n      <td>...</td>\n      <td>...</td>\n      <td>...</td>\n      <td>...</td>\n      <td>...</td>\n      <td>...</td>\n      <td>...</td>\n      <td>...</td>\n    </tr>\n    <tr>\n      <th>2859</th>\n      <td>268435729</td>\n      <td>HeroEntity</td>\n      <td>HERO5</td>\n      <td>NaN</td>\n      <td>NaN</td>\n      <td>NaN</td>\n      <td>1097.0</td>\n      <td>70.7741935483871</td>\n      <td>NaN</td>\n      <td>NaN</td>\n      <td>...</td>\n      <td>NaN</td>\n      <td>NaN</td>\n      <td>NaN</td>\n      <td>NaN</td>\n      <td>NaN</td>\n      <td>NaN</td>\n      <td>NaN</td>\n      <td>NaN</td>\n      <td>NaN</td>\n      <td>MID</td>\n    </tr>\n    <tr>\n      <th>2859</th>\n      <td>268435730</td>\n      <td>HeroEntity</td>\n      <td>HERO6</td>\n      <td>NaN</td>\n      <td>NaN</td>\n      <td>NaN</td>\n      <td>1840.0</td>\n      <td>94.11764705882354</td>\n      <td>NaN</td>\n      <td>NaN</td>\n      <td>...</td>\n      <td>NaN</td>\n      <td>NaN</td>\n      <td>NaN</td>\n      <td>NaN</td>\n      <td>NaN</td>\n      <td>NaN</td>\n      <td>NaN</td>\n      <td>NaN</td>\n      <td>NaN</td>\n      <td>MID</td>\n    </tr>\n    <tr>\n      <th>2859</th>\n      <td>268435731</td>\n      <td>HeroEntity</td>\n      <td>HERO7</td>\n      <td>NaN</td>\n      <td>NaN</td>\n      <td>NaN</td>\n      <td>1297.0</td>\n      <td>81.0625</td>\n      <td>NaN</td>\n      <td>NaN</td>\n      <td>...</td>\n      <td>NaN</td>\n      <td>NaN</td>\n      <td>NaN</td>\n      <td>NaN</td>\n      <td>NaN</td>\n      <td>NaN</td>\n      <td>NaN</td>\n      <td>NaN</td>\n      <td>NaN</td>\n      <td>RADIANT_BASE</td>\n    </tr>\n    <tr>\n      <th>2859</th>\n      <td>268435732</td>\n      <td>HeroEntity</td>\n      <td>HERO8</td>\n      <td>NaN</td>\n      <td>NaN</td>\n      <td>NaN</td>\n      <td>NaN</td>\n      <td>NaN</td>\n      <td>NaN</td>\n      <td>NaN</td>\n      <td>...</td>\n      <td>NaN</td>\n      <td>NaN</td>\n      <td>NaN</td>\n      <td>NaN</td>\n      <td>NaN</td>\n      <td>NaN</td>\n      <td>NaN</td>\n      <td>NaN</td>\n      <td>NaN</td>\n      <td>MID</td>\n    </tr>\n    <tr>\n      <th>2859</th>\n      <td>268435733</td>\n      <td>HeroEntity</td>\n      <td>HERO9</td>\n      <td>NaN</td>\n      <td>NaN</td>\n      <td>NaN</td>\n      <td>NaN</td>\n      <td>NaN</td>\n      <td>NaN</td>\n      <td>NaN</td>\n      <td>...</td>\n      <td>NaN</td>\n      <td>NaN</td>\n      <td>NaN</td>\n      <td>NaN</td>\n      <td>NaN</td>\n      <td>NaN</td>\n      <td>NaN</td>\n      <td>NaN</td>\n      <td>NaN</td>\n      <td>MID</td>\n    </tr>\n  </tbody>\n</table>\n<p>640409 rows × 41 columns</p>\n</div>"
     },
     "execution_count": 92,
     "metadata": {},
     "output_type": "execute_result"
    }
   ],
   "source": [
    "dl.game_dict[\"5494646356\"].get_heros()"
   ],
   "metadata": {
    "collapsed": false,
    "pycharm": {
     "name": "#%%\n"
    }
   }
  },
  {
   "cell_type": "code",
   "execution_count": 93,
   "outputs": [
    {
     "data": {
      "text/plain": "                    counts     prcntg\nID    map_position                   \nHERO0 BOT            11745  18.413131\n      DIRE_BASE        138   0.216348\n      JUNGLE         28341  44.431380\n      MID            12563  19.695544\n      RADIANT_BASE    3504   5.493368\n      TOP             7495  11.750227\nHERO1 BOT             7670  11.997685\n      DIRE_BASE        169   0.264356\n      JUNGLE         25846  40.429226\n      MID            19788  30.953089\n      RADIANT_BASE    3464   5.418511\n      TOP             6992  10.937133\nHERO2 BOT             6282   9.800771\n      DIRE_BASE        170   0.265223\n      JUNGLE         27151  42.359237\n      MID            15197  23.709378\n      RADIANT_BASE    3478   5.426151\n      TOP            11819  18.439241\nHERO3 BOT             7301  11.432106\n      DIRE_BASE        202   0.316297\n      JUNGLE         29654  46.433045\n      MID            16142  25.275586\n      RADIANT_BASE    3330   5.214205\n      TOP             7235  11.328761\nHERO4 BOT             8817  13.778931\n      DIRE_BASE        489   0.764194\n      JUNGLE         29581  46.228258\n      MID            14016  21.903765\n      RADIANT_BASE    2763   4.317930\n      TOP             8323  13.006923\nHERO5 BOT             8667  13.492224\n      DIRE_BASE       2852   4.439809\n      JUNGLE         28072  43.700671\n      MID            13970  21.747591\n      RADIANT_BASE     288   0.448340\n      TOP            10388  16.171365\nHERO6 BOT             6287   9.785823\n      DIRE_BASE       2675   4.163683\n      JUNGLE         26423  41.127852\n      MID            21383  33.283006\n      RADIANT_BASE     321   0.499642\n      TOP             7157  11.139993\nHERO7 BOT            11696  18.265582\n      DIRE_BASE       3068   4.791279\n      JUNGLE         27411  42.807615\n      MID            15321  23.926725\n      RADIANT_BASE     352   0.549717\n      TOP             6185   9.659082\nHERO8 BOT            11869  18.534597\n      DIRE_BASE       2637   4.117932\n      JUNGLE         30535  47.683371\n      MID            12996  20.294517\n      RADIANT_BASE     378   0.590284\n      TOP             5622   8.779299\nHERO9 BOT             9723  15.146983\n      DIRE_BASE       2218   3.455313\n      JUNGLE         30192  47.034631\n      MID            13969  21.761618\n      RADIANT_BASE     758   1.180851\n      TOP             7331  11.420604",
      "text/html": "<div>\n<style scoped>\n    .dataframe tbody tr th:only-of-type {\n        vertical-align: middle;\n    }\n\n    .dataframe tbody tr th {\n        vertical-align: top;\n    }\n\n    .dataframe thead th {\n        text-align: right;\n    }\n</style>\n<table border=\"1\" class=\"dataframe\">\n  <thead>\n    <tr style=\"text-align: right;\">\n      <th></th>\n      <th></th>\n      <th>counts</th>\n      <th>prcntg</th>\n    </tr>\n    <tr>\n      <th>ID</th>\n      <th>map_position</th>\n      <th></th>\n      <th></th>\n    </tr>\n  </thead>\n  <tbody>\n    <tr>\n      <th rowspan=\"6\" valign=\"top\">HERO0</th>\n      <th>BOT</th>\n      <td>11745</td>\n      <td>18.413131</td>\n    </tr>\n    <tr>\n      <th>DIRE_BASE</th>\n      <td>138</td>\n      <td>0.216348</td>\n    </tr>\n    <tr>\n      <th>JUNGLE</th>\n      <td>28341</td>\n      <td>44.431380</td>\n    </tr>\n    <tr>\n      <th>MID</th>\n      <td>12563</td>\n      <td>19.695544</td>\n    </tr>\n    <tr>\n      <th>RADIANT_BASE</th>\n      <td>3504</td>\n      <td>5.493368</td>\n    </tr>\n    <tr>\n      <th>TOP</th>\n      <td>7495</td>\n      <td>11.750227</td>\n    </tr>\n    <tr>\n      <th rowspan=\"6\" valign=\"top\">HERO1</th>\n      <th>BOT</th>\n      <td>7670</td>\n      <td>11.997685</td>\n    </tr>\n    <tr>\n      <th>DIRE_BASE</th>\n      <td>169</td>\n      <td>0.264356</td>\n    </tr>\n    <tr>\n      <th>JUNGLE</th>\n      <td>25846</td>\n      <td>40.429226</td>\n    </tr>\n    <tr>\n      <th>MID</th>\n      <td>19788</td>\n      <td>30.953089</td>\n    </tr>\n    <tr>\n      <th>RADIANT_BASE</th>\n      <td>3464</td>\n      <td>5.418511</td>\n    </tr>\n    <tr>\n      <th>TOP</th>\n      <td>6992</td>\n      <td>10.937133</td>\n    </tr>\n    <tr>\n      <th rowspan=\"6\" valign=\"top\">HERO2</th>\n      <th>BOT</th>\n      <td>6282</td>\n      <td>9.800771</td>\n    </tr>\n    <tr>\n      <th>DIRE_BASE</th>\n      <td>170</td>\n      <td>0.265223</td>\n    </tr>\n    <tr>\n      <th>JUNGLE</th>\n      <td>27151</td>\n      <td>42.359237</td>\n    </tr>\n    <tr>\n      <th>MID</th>\n      <td>15197</td>\n      <td>23.709378</td>\n    </tr>\n    <tr>\n      <th>RADIANT_BASE</th>\n      <td>3478</td>\n      <td>5.426151</td>\n    </tr>\n    <tr>\n      <th>TOP</th>\n      <td>11819</td>\n      <td>18.439241</td>\n    </tr>\n    <tr>\n      <th rowspan=\"6\" valign=\"top\">HERO3</th>\n      <th>BOT</th>\n      <td>7301</td>\n      <td>11.432106</td>\n    </tr>\n    <tr>\n      <th>DIRE_BASE</th>\n      <td>202</td>\n      <td>0.316297</td>\n    </tr>\n    <tr>\n      <th>JUNGLE</th>\n      <td>29654</td>\n      <td>46.433045</td>\n    </tr>\n    <tr>\n      <th>MID</th>\n      <td>16142</td>\n      <td>25.275586</td>\n    </tr>\n    <tr>\n      <th>RADIANT_BASE</th>\n      <td>3330</td>\n      <td>5.214205</td>\n    </tr>\n    <tr>\n      <th>TOP</th>\n      <td>7235</td>\n      <td>11.328761</td>\n    </tr>\n    <tr>\n      <th rowspan=\"6\" valign=\"top\">HERO4</th>\n      <th>BOT</th>\n      <td>8817</td>\n      <td>13.778931</td>\n    </tr>\n    <tr>\n      <th>DIRE_BASE</th>\n      <td>489</td>\n      <td>0.764194</td>\n    </tr>\n    <tr>\n      <th>JUNGLE</th>\n      <td>29581</td>\n      <td>46.228258</td>\n    </tr>\n    <tr>\n      <th>MID</th>\n      <td>14016</td>\n      <td>21.903765</td>\n    </tr>\n    <tr>\n      <th>RADIANT_BASE</th>\n      <td>2763</td>\n      <td>4.317930</td>\n    </tr>\n    <tr>\n      <th>TOP</th>\n      <td>8323</td>\n      <td>13.006923</td>\n    </tr>\n    <tr>\n      <th rowspan=\"6\" valign=\"top\">HERO5</th>\n      <th>BOT</th>\n      <td>8667</td>\n      <td>13.492224</td>\n    </tr>\n    <tr>\n      <th>DIRE_BASE</th>\n      <td>2852</td>\n      <td>4.439809</td>\n    </tr>\n    <tr>\n      <th>JUNGLE</th>\n      <td>28072</td>\n      <td>43.700671</td>\n    </tr>\n    <tr>\n      <th>MID</th>\n      <td>13970</td>\n      <td>21.747591</td>\n    </tr>\n    <tr>\n      <th>RADIANT_BASE</th>\n      <td>288</td>\n      <td>0.448340</td>\n    </tr>\n    <tr>\n      <th>TOP</th>\n      <td>10388</td>\n      <td>16.171365</td>\n    </tr>\n    <tr>\n      <th rowspan=\"6\" valign=\"top\">HERO6</th>\n      <th>BOT</th>\n      <td>6287</td>\n      <td>9.785823</td>\n    </tr>\n    <tr>\n      <th>DIRE_BASE</th>\n      <td>2675</td>\n      <td>4.163683</td>\n    </tr>\n    <tr>\n      <th>JUNGLE</th>\n      <td>26423</td>\n      <td>41.127852</td>\n    </tr>\n    <tr>\n      <th>MID</th>\n      <td>21383</td>\n      <td>33.283006</td>\n    </tr>\n    <tr>\n      <th>RADIANT_BASE</th>\n      <td>321</td>\n      <td>0.499642</td>\n    </tr>\n    <tr>\n      <th>TOP</th>\n      <td>7157</td>\n      <td>11.139993</td>\n    </tr>\n    <tr>\n      <th rowspan=\"6\" valign=\"top\">HERO7</th>\n      <th>BOT</th>\n      <td>11696</td>\n      <td>18.265582</td>\n    </tr>\n    <tr>\n      <th>DIRE_BASE</th>\n      <td>3068</td>\n      <td>4.791279</td>\n    </tr>\n    <tr>\n      <th>JUNGLE</th>\n      <td>27411</td>\n      <td>42.807615</td>\n    </tr>\n    <tr>\n      <th>MID</th>\n      <td>15321</td>\n      <td>23.926725</td>\n    </tr>\n    <tr>\n      <th>RADIANT_BASE</th>\n      <td>352</td>\n      <td>0.549717</td>\n    </tr>\n    <tr>\n      <th>TOP</th>\n      <td>6185</td>\n      <td>9.659082</td>\n    </tr>\n    <tr>\n      <th rowspan=\"6\" valign=\"top\">HERO8</th>\n      <th>BOT</th>\n      <td>11869</td>\n      <td>18.534597</td>\n    </tr>\n    <tr>\n      <th>DIRE_BASE</th>\n      <td>2637</td>\n      <td>4.117932</td>\n    </tr>\n    <tr>\n      <th>JUNGLE</th>\n      <td>30535</td>\n      <td>47.683371</td>\n    </tr>\n    <tr>\n      <th>MID</th>\n      <td>12996</td>\n      <td>20.294517</td>\n    </tr>\n    <tr>\n      <th>RADIANT_BASE</th>\n      <td>378</td>\n      <td>0.590284</td>\n    </tr>\n    <tr>\n      <th>TOP</th>\n      <td>5622</td>\n      <td>8.779299</td>\n    </tr>\n    <tr>\n      <th rowspan=\"6\" valign=\"top\">HERO9</th>\n      <th>BOT</th>\n      <td>9723</td>\n      <td>15.146983</td>\n    </tr>\n    <tr>\n      <th>DIRE_BASE</th>\n      <td>2218</td>\n      <td>3.455313</td>\n    </tr>\n    <tr>\n      <th>JUNGLE</th>\n      <td>30192</td>\n      <td>47.034631</td>\n    </tr>\n    <tr>\n      <th>MID</th>\n      <td>13969</td>\n      <td>21.761618</td>\n    </tr>\n    <tr>\n      <th>RADIANT_BASE</th>\n      <td>758</td>\n      <td>1.180851</td>\n    </tr>\n    <tr>\n      <th>TOP</th>\n      <td>7331</td>\n      <td>11.420604</td>\n    </tr>\n  </tbody>\n</table>\n</div>"
     },
     "execution_count": 93,
     "metadata": {},
     "output_type": "execute_result"
    }
   ],
   "source": [
    "dl.game_dict[\"5494646356\"].get_lane_percentage()"
   ],
   "metadata": {
    "collapsed": false,
    "pycharm": {
     "name": "#%%\n"
    }
   }
  },
  {
   "cell_type": "code",
   "execution_count": 90,
   "outputs": [],
   "source": [],
   "metadata": {
    "collapsed": false,
    "pycharm": {
     "name": "#%%\n"
    }
   }
  }
 ],
 "metadata": {
  "kernelspec": {
   "display_name": "Python 3",
   "language": "python",
   "name": "python3"
  },
  "language_info": {
   "codemirror_mode": {
    "name": "ipython",
    "version": 2
   },
   "file_extension": ".py",
   "mimetype": "text/x-python",
   "name": "python",
   "nbconvert_exporter": "python",
   "pygments_lexer": "ipython2",
   "version": "2.7.6"
  }
 },
 "nbformat": 4,
 "nbformat_minor": 0
}