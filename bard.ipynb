{
 "cells": [
  {
   "cell_type": "code",
   "execution_count": 193,
   "metadata": {
    "collapsed": true
   },
   "outputs": [],
   "source": [
    "from utils import game\n",
    "import os"
   ]
  },
  {
   "cell_type": "code",
   "execution_count": 194,
   "outputs": [],
   "source": [
    "from utils.game import Game\n",
    "import matplotlib\n",
    "from utils.data_loader import DataLoader\n",
    "from tqdm import tqdm\n",
    "import sklearn\n",
    "import pandas as pd\n",
    "%autoreload 2"
   ],
   "metadata": {
    "collapsed": false,
    "pycharm": {
     "name": "#%%\n"
    }
   }
  },
  {
   "cell_type": "code",
   "execution_count": 195,
   "outputs": [],
   "source": [
    "dl = DataLoader(\"game_data\")"
   ],
   "metadata": {
    "collapsed": false,
    "pycharm": {
     "name": "#%%\n"
    }
   }
  },
  {
   "cell_type": "code",
   "execution_count": 196,
   "outputs": [
    {
     "name": "stderr",
     "output_type": "stream",
     "text": [
      "100%|██████████| 28/28 [00:17<00:00,  1.57it/s]\n"
     ]
    }
   ],
   "source": [
    "dl.load_files()"
   ],
   "metadata": {
    "collapsed": false,
    "pycharm": {
     "name": "#%%\n"
    }
   }
  },
  {
   "cell_type": "code",
   "execution_count": 197,
   "outputs": [
    {
     "name": "stderr",
     "output_type": "stream",
     "text": [
      "C:\\Users\\Sam\\AppData\\Local\\pypoetry\\Cache\\virtualenvs\\finalproject-R1e7iEZc-py3.9\\lib\\site-packages\\swifter\\swifter.py:33: UserWarning: This pandas object has duplicate indices, and swifter may not be able to improve performance. Consider resetting the indices with `df.reset_index(drop=True)`.\n",
      "  warnings.warn(\n"
     ]
    },
    {
     "data": {
      "text/plain": "Pandas Apply:   0%|          | 0/640409 [00:00<?, ?it/s]",
      "application/vnd.jupyter.widget-view+json": {
       "version_major": 2,
       "version_minor": 0,
       "model_id": "fd0366f35d1940ad8cb25365bc333ca2"
      }
     },
     "metadata": {},
     "output_type": "display_data"
    },
    {
     "data": {
      "text/plain": "             UID ENTITY_TYPE     ID                       NAME       PLAYER  \\\nFrame                                                                         \n872    268435723  HeroEntity  HERO0   npc_dota_hero_arc_warden  268435466.0   \n872    268435724  HeroEntity  HERO1       npc_dota_hero_kunkka  268435467.0   \n872    268435725  HeroEntity  HERO2  npc_dota_hero_enchantress  268435468.0   \n872    268435726  HeroEntity  HERO3   npc_dota_hero_rattletrap  268435469.0   \n872    268435727  HeroEntity  HERO4         npc_dota_hero_zuus  268435470.0   \n...          ...         ...    ...                        ...          ...   \n2859   268435729  HeroEntity  HERO5                        NaN          NaN   \n2859   268435730  HeroEntity  HERO6                        NaN          NaN   \n2859   268435731  HeroEntity  HERO7                        NaN          NaN   \n2859   268435732  HeroEntity  HERO8                        NaN          NaN   \n2859   268435733  HeroEntity  HERO9                        NaN          NaN   \n\n       BUYBACK_COOLDOWN  HEALTH  HEALTH_PERCENT  ALIVE VISIBLE_BY_OTHER_TEAM  \\\nFrame                                                                          \n872                 0.0   740.0      100.000000  False                 False   \n872                 0.0   800.0      100.000000  False                 False   \n872                 0.0   560.0      100.000000  False                 False   \n872                 0.0   720.0      100.000000  False                 False   \n872                 0.0   620.0      100.000000  False                 False   \n...                 ...     ...             ...    ...                   ...   \n2859                NaN  1097.0       70.774194    NaN                   NaN   \n2859                NaN  1840.0       94.117647    NaN                   NaN   \n2859                NaN  1297.0       81.062500    NaN                   NaN   \n2859                NaN     NaN             NaN    NaN                   NaN   \n2859                NaN     NaN             NaN    NaN                   NaN   \n\n       ... TOTAL_AGILITY BASE_INTELLECT TOTAL_INTELLECT MOVEMENT_SPEED  \\\nFrame  ...                                                               \n872    ...          20.0           24.0            26.0          285.0   \n872    ...          17.0           18.0            21.0          300.0   \n872    ...          20.0           22.0            23.0          320.0   \n872    ...          13.0           18.0            18.0          315.0   \n872    ...          11.0           22.0            22.0          300.0   \n...    ...           ...            ...             ...            ...   \n2859   ...           NaN            NaN             NaN            NaN   \n2859   ...           NaN            NaN             NaN            NaN   \n2859   ...           NaN            NaN             NaN            NaN   \n2859   ...           NaN            NaN             NaN            NaN   \n2859   ...           NaN            NaN             NaN            NaN   \n\n      DAMAGE_MIN DAMAGE_MAX DAMAGE_BONUS PHYSICAL_ARMOUR  MAGIC_RESISTENCE  \\\nFrame                                                                        \n872         51.0       61.0          2.0            -2.0              25.0   \n872         56.0       66.0          2.0             1.0              25.0   \n872         46.0       56.0          2.0             1.0              25.0   \n872         50.0       52.0          0.0             0.0              25.0   \n872         55.0       63.0          0.0             1.0              25.0   \n...          ...        ...          ...             ...               ...   \n2859         NaN        NaN          NaN             NaN               NaN   \n2859         NaN        NaN          NaN             NaN               NaN   \n2859         NaN        NaN          NaN             NaN               NaN   \n2859         NaN        NaN          NaN             NaN               NaN   \n2859         NaN        NaN          NaN             NaN               NaN   \n\n       map_position  \nFrame                \n872    RADIANT_BASE  \n872    RADIANT_BASE  \n872    RADIANT_BASE  \n872    RADIANT_BASE  \n872    RADIANT_BASE  \n...             ...  \n2859            MID  \n2859            MID  \n2859   RADIANT_BASE  \n2859            MID  \n2859            MID  \n\n[640409 rows x 41 columns]",
      "text/html": "<div>\n<style scoped>\n    .dataframe tbody tr th:only-of-type {\n        vertical-align: middle;\n    }\n\n    .dataframe tbody tr th {\n        vertical-align: top;\n    }\n\n    .dataframe thead th {\n        text-align: right;\n    }\n</style>\n<table border=\"1\" class=\"dataframe\">\n  <thead>\n    <tr style=\"text-align: right;\">\n      <th></th>\n      <th>UID</th>\n      <th>ENTITY_TYPE</th>\n      <th>ID</th>\n      <th>NAME</th>\n      <th>PLAYER</th>\n      <th>BUYBACK_COOLDOWN</th>\n      <th>HEALTH</th>\n      <th>HEALTH_PERCENT</th>\n      <th>ALIVE</th>\n      <th>VISIBLE_BY_OTHER_TEAM</th>\n      <th>...</th>\n      <th>TOTAL_AGILITY</th>\n      <th>BASE_INTELLECT</th>\n      <th>TOTAL_INTELLECT</th>\n      <th>MOVEMENT_SPEED</th>\n      <th>DAMAGE_MIN</th>\n      <th>DAMAGE_MAX</th>\n      <th>DAMAGE_BONUS</th>\n      <th>PHYSICAL_ARMOUR</th>\n      <th>MAGIC_RESISTENCE</th>\n      <th>map_position</th>\n    </tr>\n    <tr>\n      <th>Frame</th>\n      <th></th>\n      <th></th>\n      <th></th>\n      <th></th>\n      <th></th>\n      <th></th>\n      <th></th>\n      <th></th>\n      <th></th>\n      <th></th>\n      <th></th>\n      <th></th>\n      <th></th>\n      <th></th>\n      <th></th>\n      <th></th>\n      <th></th>\n      <th></th>\n      <th></th>\n      <th></th>\n      <th></th>\n    </tr>\n  </thead>\n  <tbody>\n    <tr>\n      <th>872</th>\n      <td>268435723</td>\n      <td>HeroEntity</td>\n      <td>HERO0</td>\n      <td>npc_dota_hero_arc_warden</td>\n      <td>268435466.0</td>\n      <td>0.0</td>\n      <td>740.0</td>\n      <td>100.000000</td>\n      <td>False</td>\n      <td>False</td>\n      <td>...</td>\n      <td>20.0</td>\n      <td>24.0</td>\n      <td>26.0</td>\n      <td>285.0</td>\n      <td>51.0</td>\n      <td>61.0</td>\n      <td>2.0</td>\n      <td>-2.0</td>\n      <td>25.0</td>\n      <td>RADIANT_BASE</td>\n    </tr>\n    <tr>\n      <th>872</th>\n      <td>268435724</td>\n      <td>HeroEntity</td>\n      <td>HERO1</td>\n      <td>npc_dota_hero_kunkka</td>\n      <td>268435467.0</td>\n      <td>0.0</td>\n      <td>800.0</td>\n      <td>100.000000</td>\n      <td>False</td>\n      <td>False</td>\n      <td>...</td>\n      <td>17.0</td>\n      <td>18.0</td>\n      <td>21.0</td>\n      <td>300.0</td>\n      <td>56.0</td>\n      <td>66.0</td>\n      <td>2.0</td>\n      <td>1.0</td>\n      <td>25.0</td>\n      <td>RADIANT_BASE</td>\n    </tr>\n    <tr>\n      <th>872</th>\n      <td>268435725</td>\n      <td>HeroEntity</td>\n      <td>HERO2</td>\n      <td>npc_dota_hero_enchantress</td>\n      <td>268435468.0</td>\n      <td>0.0</td>\n      <td>560.0</td>\n      <td>100.000000</td>\n      <td>False</td>\n      <td>False</td>\n      <td>...</td>\n      <td>20.0</td>\n      <td>22.0</td>\n      <td>23.0</td>\n      <td>320.0</td>\n      <td>46.0</td>\n      <td>56.0</td>\n      <td>2.0</td>\n      <td>1.0</td>\n      <td>25.0</td>\n      <td>RADIANT_BASE</td>\n    </tr>\n    <tr>\n      <th>872</th>\n      <td>268435726</td>\n      <td>HeroEntity</td>\n      <td>HERO3</td>\n      <td>npc_dota_hero_rattletrap</td>\n      <td>268435469.0</td>\n      <td>0.0</td>\n      <td>720.0</td>\n      <td>100.000000</td>\n      <td>False</td>\n      <td>False</td>\n      <td>...</td>\n      <td>13.0</td>\n      <td>18.0</td>\n      <td>18.0</td>\n      <td>315.0</td>\n      <td>50.0</td>\n      <td>52.0</td>\n      <td>0.0</td>\n      <td>0.0</td>\n      <td>25.0</td>\n      <td>RADIANT_BASE</td>\n    </tr>\n    <tr>\n      <th>872</th>\n      <td>268435727</td>\n      <td>HeroEntity</td>\n      <td>HERO4</td>\n      <td>npc_dota_hero_zuus</td>\n      <td>268435470.0</td>\n      <td>0.0</td>\n      <td>620.0</td>\n      <td>100.000000</td>\n      <td>False</td>\n      <td>False</td>\n      <td>...</td>\n      <td>11.0</td>\n      <td>22.0</td>\n      <td>22.0</td>\n      <td>300.0</td>\n      <td>55.0</td>\n      <td>63.0</td>\n      <td>0.0</td>\n      <td>1.0</td>\n      <td>25.0</td>\n      <td>RADIANT_BASE</td>\n    </tr>\n    <tr>\n      <th>...</th>\n      <td>...</td>\n      <td>...</td>\n      <td>...</td>\n      <td>...</td>\n      <td>...</td>\n      <td>...</td>\n      <td>...</td>\n      <td>...</td>\n      <td>...</td>\n      <td>...</td>\n      <td>...</td>\n      <td>...</td>\n      <td>...</td>\n      <td>...</td>\n      <td>...</td>\n      <td>...</td>\n      <td>...</td>\n      <td>...</td>\n      <td>...</td>\n      <td>...</td>\n      <td>...</td>\n    </tr>\n    <tr>\n      <th>2859</th>\n      <td>268435729</td>\n      <td>HeroEntity</td>\n      <td>HERO5</td>\n      <td>NaN</td>\n      <td>NaN</td>\n      <td>NaN</td>\n      <td>1097.0</td>\n      <td>70.774194</td>\n      <td>NaN</td>\n      <td>NaN</td>\n      <td>...</td>\n      <td>NaN</td>\n      <td>NaN</td>\n      <td>NaN</td>\n      <td>NaN</td>\n      <td>NaN</td>\n      <td>NaN</td>\n      <td>NaN</td>\n      <td>NaN</td>\n      <td>NaN</td>\n      <td>MID</td>\n    </tr>\n    <tr>\n      <th>2859</th>\n      <td>268435730</td>\n      <td>HeroEntity</td>\n      <td>HERO6</td>\n      <td>NaN</td>\n      <td>NaN</td>\n      <td>NaN</td>\n      <td>1840.0</td>\n      <td>94.117647</td>\n      <td>NaN</td>\n      <td>NaN</td>\n      <td>...</td>\n      <td>NaN</td>\n      <td>NaN</td>\n      <td>NaN</td>\n      <td>NaN</td>\n      <td>NaN</td>\n      <td>NaN</td>\n      <td>NaN</td>\n      <td>NaN</td>\n      <td>NaN</td>\n      <td>MID</td>\n    </tr>\n    <tr>\n      <th>2859</th>\n      <td>268435731</td>\n      <td>HeroEntity</td>\n      <td>HERO7</td>\n      <td>NaN</td>\n      <td>NaN</td>\n      <td>NaN</td>\n      <td>1297.0</td>\n      <td>81.062500</td>\n      <td>NaN</td>\n      <td>NaN</td>\n      <td>...</td>\n      <td>NaN</td>\n      <td>NaN</td>\n      <td>NaN</td>\n      <td>NaN</td>\n      <td>NaN</td>\n      <td>NaN</td>\n      <td>NaN</td>\n      <td>NaN</td>\n      <td>NaN</td>\n      <td>RADIANT_BASE</td>\n    </tr>\n    <tr>\n      <th>2859</th>\n      <td>268435732</td>\n      <td>HeroEntity</td>\n      <td>HERO8</td>\n      <td>NaN</td>\n      <td>NaN</td>\n      <td>NaN</td>\n      <td>NaN</td>\n      <td>NaN</td>\n      <td>NaN</td>\n      <td>NaN</td>\n      <td>...</td>\n      <td>NaN</td>\n      <td>NaN</td>\n      <td>NaN</td>\n      <td>NaN</td>\n      <td>NaN</td>\n      <td>NaN</td>\n      <td>NaN</td>\n      <td>NaN</td>\n      <td>NaN</td>\n      <td>MID</td>\n    </tr>\n    <tr>\n      <th>2859</th>\n      <td>268435733</td>\n      <td>HeroEntity</td>\n      <td>HERO9</td>\n      <td>NaN</td>\n      <td>NaN</td>\n      <td>NaN</td>\n      <td>NaN</td>\n      <td>NaN</td>\n      <td>NaN</td>\n      <td>NaN</td>\n      <td>...</td>\n      <td>NaN</td>\n      <td>NaN</td>\n      <td>NaN</td>\n      <td>NaN</td>\n      <td>NaN</td>\n      <td>NaN</td>\n      <td>NaN</td>\n      <td>NaN</td>\n      <td>NaN</td>\n      <td>MID</td>\n    </tr>\n  </tbody>\n</table>\n<p>640409 rows × 41 columns</p>\n</div>"
     },
     "execution_count": 197,
     "metadata": {},
     "output_type": "execute_result"
    }
   ],
   "source": [
    "dl.game_dict[\"5494646356\"].get_heros()"
   ],
   "metadata": {
    "collapsed": false,
    "pycharm": {
     "name": "#%%\n"
    }
   }
  },
  {
   "cell_type": "code",
   "execution_count": 198,
   "outputs": [
    {
     "data": {
      "text/plain": "             UID   ENTITY_TYPE       ID         NAME         TEAM  \\\nFrame                                                               \n0      268435466  PlayerEntity  PLAYER0          ???  268435476.0   \n0      268435467  PlayerEntity  PLAYER1        Ryoya  268435476.0   \n0      268435468  PlayerEntity  PLAYER2  Better days  268435476.0   \n0      268435469  PlayerEntity  PLAYER3          zzz  268435476.0   \n0      268435470  PlayerEntity  PLAYER4     mode:zai  268435476.0   \n...          ...           ...      ...          ...          ...   \n2859   268435471  PlayerEntity  PLAYER5          NaN          NaN   \n2859   268435472  PlayerEntity  PLAYER6          NaN          NaN   \n2859   268435473  PlayerEntity  PLAYER7          NaN          NaN   \n2859   268435474  PlayerEntity  PLAYER8          NaN          NaN   \n2859   268435475  PlayerEntity  PLAYER9          NaN          NaN   \n\n       TIMEINMIDLANE  TIMEINSAFELANE  TIMEINOFFLANE  TIMEROAMING  XPPRIORITY  \\\nFrame                                                                          \n0                NaN             NaN            NaN          NaN         NaN   \n0                NaN             NaN            NaN          NaN         NaN   \n0                NaN             NaN            NaN          NaN         NaN   \n0                NaN             NaN            NaN          NaN         NaN   \n0                NaN             NaN            NaN          NaN         NaN   \n...              ...             ...            ...          ...         ...   \n2859             NaN             NaN            NaN          NaN         NaN   \n2859             NaN             NaN            NaN          NaN         NaN   \n2859             NaN             NaN            NaN          NaN         NaN   \n2859             NaN             NaN            NaN          NaN         NaN   \n2859             NaN             NaN            NaN          NaN         NaN   \n\n       ...  XPM_NUMBER_OF_HISTORIC_MATCHES   XP  XP_PERCENTILE  \\\nFrame  ...                                                       \n0      ...                             NaN  0.0            NaN   \n0      ...                             NaN  0.0            NaN   \n0      ...                             NaN  0.0            NaN   \n0      ...                             NaN  0.0            NaN   \n0      ...                             NaN  0.0            NaN   \n...    ...                             ...  ...            ...   \n2859   ...                             NaN  NaN            NaN   \n2859   ...                             NaN  NaN            NaN   \n2859   ...                             NaN  NaN            NaN   \n2859   ...                             NaN  NaN            NaN   \n2859   ...                             NaN  NaN            NaN   \n\n       XP_NUMBER_OF_HISTORIC_MATCHES  XCAMERA  YCAMERA CAMERA_ZOOM_LEVEL  \\\nFrame                                                                      \n0                                NaN      0.0   -599.0               0.5   \n0                                NaN      0.0   -599.0               0.5   \n0                                NaN    466.0   -999.0               0.5   \n0                                NaN      0.0   -599.0               0.5   \n0                                NaN      0.0  -1225.0               0.5   \n...                              ...      ...      ...               ...   \n2859                             NaN  -5365.0  -4422.0               NaN   \n2859                             NaN  -5365.0  -4422.0               NaN   \n2859                             NaN  -5150.0  -4422.0               NaN   \n2859                             NaN  -5150.0  -4422.0               NaN   \n2859                             NaN  -5150.0  -4422.0               NaN   \n\n       XCURSOR  YCURSOR     PLAYER  \nFrame                               \n0        175.0    266.0  268435466  \n0        220.0    311.0  268435467  \n0        333.0    210.0  268435468  \n0        198.0    233.0  268435469  \n0        368.0    277.0  268435470  \n...        ...      ...        ...  \n2859     204.0    183.0  268435471  \n2859     204.0    183.0  268435472  \n2859     120.0     85.0  268435473  \n2859     331.0     46.0  268435474  \n2859     156.0    150.0  268435475  \n\n[701964 rows x 97 columns]",
      "text/html": "<div>\n<style scoped>\n    .dataframe tbody tr th:only-of-type {\n        vertical-align: middle;\n    }\n\n    .dataframe tbody tr th {\n        vertical-align: top;\n    }\n\n    .dataframe thead th {\n        text-align: right;\n    }\n</style>\n<table border=\"1\" class=\"dataframe\">\n  <thead>\n    <tr style=\"text-align: right;\">\n      <th></th>\n      <th>UID</th>\n      <th>ENTITY_TYPE</th>\n      <th>ID</th>\n      <th>NAME</th>\n      <th>TEAM</th>\n      <th>TIMEINMIDLANE</th>\n      <th>TIMEINSAFELANE</th>\n      <th>TIMEINOFFLANE</th>\n      <th>TIMEROAMING</th>\n      <th>XPPRIORITY</th>\n      <th>...</th>\n      <th>XPM_NUMBER_OF_HISTORIC_MATCHES</th>\n      <th>XP</th>\n      <th>XP_PERCENTILE</th>\n      <th>XP_NUMBER_OF_HISTORIC_MATCHES</th>\n      <th>XCAMERA</th>\n      <th>YCAMERA</th>\n      <th>CAMERA_ZOOM_LEVEL</th>\n      <th>XCURSOR</th>\n      <th>YCURSOR</th>\n      <th>PLAYER</th>\n    </tr>\n    <tr>\n      <th>Frame</th>\n      <th></th>\n      <th></th>\n      <th></th>\n      <th></th>\n      <th></th>\n      <th></th>\n      <th></th>\n      <th></th>\n      <th></th>\n      <th></th>\n      <th></th>\n      <th></th>\n      <th></th>\n      <th></th>\n      <th></th>\n      <th></th>\n      <th></th>\n      <th></th>\n      <th></th>\n      <th></th>\n      <th></th>\n    </tr>\n  </thead>\n  <tbody>\n    <tr>\n      <th>0</th>\n      <td>268435466</td>\n      <td>PlayerEntity</td>\n      <td>PLAYER0</td>\n      <td>???</td>\n      <td>268435476.0</td>\n      <td>NaN</td>\n      <td>NaN</td>\n      <td>NaN</td>\n      <td>NaN</td>\n      <td>NaN</td>\n      <td>...</td>\n      <td>NaN</td>\n      <td>0.0</td>\n      <td>NaN</td>\n      <td>NaN</td>\n      <td>0.0</td>\n      <td>-599.0</td>\n      <td>0.5</td>\n      <td>175.0</td>\n      <td>266.0</td>\n      <td>268435466</td>\n    </tr>\n    <tr>\n      <th>0</th>\n      <td>268435467</td>\n      <td>PlayerEntity</td>\n      <td>PLAYER1</td>\n      <td>Ryoya</td>\n      <td>268435476.0</td>\n      <td>NaN</td>\n      <td>NaN</td>\n      <td>NaN</td>\n      <td>NaN</td>\n      <td>NaN</td>\n      <td>...</td>\n      <td>NaN</td>\n      <td>0.0</td>\n      <td>NaN</td>\n      <td>NaN</td>\n      <td>0.0</td>\n      <td>-599.0</td>\n      <td>0.5</td>\n      <td>220.0</td>\n      <td>311.0</td>\n      <td>268435467</td>\n    </tr>\n    <tr>\n      <th>0</th>\n      <td>268435468</td>\n      <td>PlayerEntity</td>\n      <td>PLAYER2</td>\n      <td>Better days</td>\n      <td>268435476.0</td>\n      <td>NaN</td>\n      <td>NaN</td>\n      <td>NaN</td>\n      <td>NaN</td>\n      <td>NaN</td>\n      <td>...</td>\n      <td>NaN</td>\n      <td>0.0</td>\n      <td>NaN</td>\n      <td>NaN</td>\n      <td>466.0</td>\n      <td>-999.0</td>\n      <td>0.5</td>\n      <td>333.0</td>\n      <td>210.0</td>\n      <td>268435468</td>\n    </tr>\n    <tr>\n      <th>0</th>\n      <td>268435469</td>\n      <td>PlayerEntity</td>\n      <td>PLAYER3</td>\n      <td>zzz</td>\n      <td>268435476.0</td>\n      <td>NaN</td>\n      <td>NaN</td>\n      <td>NaN</td>\n      <td>NaN</td>\n      <td>NaN</td>\n      <td>...</td>\n      <td>NaN</td>\n      <td>0.0</td>\n      <td>NaN</td>\n      <td>NaN</td>\n      <td>0.0</td>\n      <td>-599.0</td>\n      <td>0.5</td>\n      <td>198.0</td>\n      <td>233.0</td>\n      <td>268435469</td>\n    </tr>\n    <tr>\n      <th>0</th>\n      <td>268435470</td>\n      <td>PlayerEntity</td>\n      <td>PLAYER4</td>\n      <td>mode:zai</td>\n      <td>268435476.0</td>\n      <td>NaN</td>\n      <td>NaN</td>\n      <td>NaN</td>\n      <td>NaN</td>\n      <td>NaN</td>\n      <td>...</td>\n      <td>NaN</td>\n      <td>0.0</td>\n      <td>NaN</td>\n      <td>NaN</td>\n      <td>0.0</td>\n      <td>-1225.0</td>\n      <td>0.5</td>\n      <td>368.0</td>\n      <td>277.0</td>\n      <td>268435470</td>\n    </tr>\n    <tr>\n      <th>...</th>\n      <td>...</td>\n      <td>...</td>\n      <td>...</td>\n      <td>...</td>\n      <td>...</td>\n      <td>...</td>\n      <td>...</td>\n      <td>...</td>\n      <td>...</td>\n      <td>...</td>\n      <td>...</td>\n      <td>...</td>\n      <td>...</td>\n      <td>...</td>\n      <td>...</td>\n      <td>...</td>\n      <td>...</td>\n      <td>...</td>\n      <td>...</td>\n      <td>...</td>\n      <td>...</td>\n    </tr>\n    <tr>\n      <th>2859</th>\n      <td>268435471</td>\n      <td>PlayerEntity</td>\n      <td>PLAYER5</td>\n      <td>NaN</td>\n      <td>NaN</td>\n      <td>NaN</td>\n      <td>NaN</td>\n      <td>NaN</td>\n      <td>NaN</td>\n      <td>NaN</td>\n      <td>...</td>\n      <td>NaN</td>\n      <td>NaN</td>\n      <td>NaN</td>\n      <td>NaN</td>\n      <td>-5365.0</td>\n      <td>-4422.0</td>\n      <td>NaN</td>\n      <td>204.0</td>\n      <td>183.0</td>\n      <td>268435471</td>\n    </tr>\n    <tr>\n      <th>2859</th>\n      <td>268435472</td>\n      <td>PlayerEntity</td>\n      <td>PLAYER6</td>\n      <td>NaN</td>\n      <td>NaN</td>\n      <td>NaN</td>\n      <td>NaN</td>\n      <td>NaN</td>\n      <td>NaN</td>\n      <td>NaN</td>\n      <td>...</td>\n      <td>NaN</td>\n      <td>NaN</td>\n      <td>NaN</td>\n      <td>NaN</td>\n      <td>-5365.0</td>\n      <td>-4422.0</td>\n      <td>NaN</td>\n      <td>204.0</td>\n      <td>183.0</td>\n      <td>268435472</td>\n    </tr>\n    <tr>\n      <th>2859</th>\n      <td>268435473</td>\n      <td>PlayerEntity</td>\n      <td>PLAYER7</td>\n      <td>NaN</td>\n      <td>NaN</td>\n      <td>NaN</td>\n      <td>NaN</td>\n      <td>NaN</td>\n      <td>NaN</td>\n      <td>NaN</td>\n      <td>...</td>\n      <td>NaN</td>\n      <td>NaN</td>\n      <td>NaN</td>\n      <td>NaN</td>\n      <td>-5150.0</td>\n      <td>-4422.0</td>\n      <td>NaN</td>\n      <td>120.0</td>\n      <td>85.0</td>\n      <td>268435473</td>\n    </tr>\n    <tr>\n      <th>2859</th>\n      <td>268435474</td>\n      <td>PlayerEntity</td>\n      <td>PLAYER8</td>\n      <td>NaN</td>\n      <td>NaN</td>\n      <td>NaN</td>\n      <td>NaN</td>\n      <td>NaN</td>\n      <td>NaN</td>\n      <td>NaN</td>\n      <td>...</td>\n      <td>NaN</td>\n      <td>NaN</td>\n      <td>NaN</td>\n      <td>NaN</td>\n      <td>-5150.0</td>\n      <td>-4422.0</td>\n      <td>NaN</td>\n      <td>331.0</td>\n      <td>46.0</td>\n      <td>268435474</td>\n    </tr>\n    <tr>\n      <th>2859</th>\n      <td>268435475</td>\n      <td>PlayerEntity</td>\n      <td>PLAYER9</td>\n      <td>NaN</td>\n      <td>NaN</td>\n      <td>NaN</td>\n      <td>NaN</td>\n      <td>NaN</td>\n      <td>NaN</td>\n      <td>NaN</td>\n      <td>...</td>\n      <td>NaN</td>\n      <td>NaN</td>\n      <td>NaN</td>\n      <td>NaN</td>\n      <td>-5150.0</td>\n      <td>-4422.0</td>\n      <td>NaN</td>\n      <td>156.0</td>\n      <td>150.0</td>\n      <td>268435475</td>\n    </tr>\n  </tbody>\n</table>\n<p>701964 rows × 97 columns</p>\n</div>"
     },
     "execution_count": 198,
     "metadata": {},
     "output_type": "execute_result"
    }
   ],
   "source": [
    "dl.game_dict[\"5494646356\"].get_players()"
   ],
   "metadata": {
    "collapsed": false,
    "pycharm": {
     "name": "#%%\n"
    }
   }
  },
  {
   "cell_type": "code",
   "execution_count": 199,
   "outputs": [
    {
     "data": {
      "text/plain": "             UID   ENTITY_TYPE       ID         NAME         TEAM  \\\nFrame                                                               \n0      268435466  PlayerEntity  PLAYER0          ???  268435476.0   \n0      268435467  PlayerEntity  PLAYER1        Ryoya  268435476.0   \n0      268435468  PlayerEntity  PLAYER2  Better days  268435476.0   \n0      268435469  PlayerEntity  PLAYER3          zzz  268435476.0   \n0      268435470  PlayerEntity  PLAYER4     mode:zai  268435476.0   \n...          ...           ...      ...          ...          ...   \n2859   268435471  PlayerEntity  PLAYER5          NaN          NaN   \n2859   268435472  PlayerEntity  PLAYER6          NaN          NaN   \n2859   268435473  PlayerEntity  PLAYER7          NaN          NaN   \n2859   268435474  PlayerEntity  PLAYER8          NaN          NaN   \n2859   268435475  PlayerEntity  PLAYER9          NaN          NaN   \n\n       TIMEINMIDLANE  TIMEINSAFELANE  TIMEINOFFLANE  TIMEROAMING  XPPRIORITY  \\\nFrame                                                                          \n0                NaN             NaN            NaN          NaN         NaN   \n0                NaN             NaN            NaN          NaN         NaN   \n0                NaN             NaN            NaN          NaN         NaN   \n0                NaN             NaN            NaN          NaN         NaN   \n0                NaN             NaN            NaN          NaN         NaN   \n...              ...             ...            ...          ...         ...   \n2859             NaN             NaN            NaN          NaN         NaN   \n2859             NaN             NaN            NaN          NaN         NaN   \n2859             NaN             NaN            NaN          NaN         NaN   \n2859             NaN             NaN            NaN          NaN         NaN   \n2859             NaN             NaN            NaN          NaN         NaN   \n\n       ...  XPM_NUMBER_OF_HISTORIC_MATCHES   XP  XP_PERCENTILE  \\\nFrame  ...                                                       \n0      ...                             NaN  0.0            NaN   \n0      ...                             NaN  0.0            NaN   \n0      ...                             NaN  0.0            NaN   \n0      ...                             NaN  0.0            NaN   \n0      ...                             NaN  0.0            NaN   \n...    ...                             ...  ...            ...   \n2859   ...                             NaN  NaN            NaN   \n2859   ...                             NaN  NaN            NaN   \n2859   ...                             NaN  NaN            NaN   \n2859   ...                             NaN  NaN            NaN   \n2859   ...                             NaN  NaN            NaN   \n\n       XP_NUMBER_OF_HISTORIC_MATCHES  XCAMERA  YCAMERA CAMERA_ZOOM_LEVEL  \\\nFrame                                                                      \n0                                NaN      0.0   -599.0               0.5   \n0                                NaN      0.0   -599.0               0.5   \n0                                NaN    466.0   -999.0               0.5   \n0                                NaN      0.0   -599.0               0.5   \n0                                NaN      0.0  -1225.0               0.5   \n...                              ...      ...      ...               ...   \n2859                             NaN  -5365.0  -4422.0               NaN   \n2859                             NaN  -5365.0  -4422.0               NaN   \n2859                             NaN  -5150.0  -4422.0               NaN   \n2859                             NaN  -5150.0  -4422.0               NaN   \n2859                             NaN  -5150.0  -4422.0               NaN   \n\n       XCURSOR  YCURSOR     PLAYER  \nFrame                               \n0        175.0    266.0  268435466  \n0        220.0    311.0  268435467  \n0        333.0    210.0  268435468  \n0        198.0    233.0  268435469  \n0        368.0    277.0  268435470  \n...        ...      ...        ...  \n2859     204.0    183.0  268435471  \n2859     204.0    183.0  268435472  \n2859     120.0     85.0  268435473  \n2859     331.0     46.0  268435474  \n2859     156.0    150.0  268435475  \n\n[701964 rows x 97 columns]",
      "text/html": "<div>\n<style scoped>\n    .dataframe tbody tr th:only-of-type {\n        vertical-align: middle;\n    }\n\n    .dataframe tbody tr th {\n        vertical-align: top;\n    }\n\n    .dataframe thead th {\n        text-align: right;\n    }\n</style>\n<table border=\"1\" class=\"dataframe\">\n  <thead>\n    <tr style=\"text-align: right;\">\n      <th></th>\n      <th>UID</th>\n      <th>ENTITY_TYPE</th>\n      <th>ID</th>\n      <th>NAME</th>\n      <th>TEAM</th>\n      <th>TIMEINMIDLANE</th>\n      <th>TIMEINSAFELANE</th>\n      <th>TIMEINOFFLANE</th>\n      <th>TIMEROAMING</th>\n      <th>XPPRIORITY</th>\n      <th>...</th>\n      <th>XPM_NUMBER_OF_HISTORIC_MATCHES</th>\n      <th>XP</th>\n      <th>XP_PERCENTILE</th>\n      <th>XP_NUMBER_OF_HISTORIC_MATCHES</th>\n      <th>XCAMERA</th>\n      <th>YCAMERA</th>\n      <th>CAMERA_ZOOM_LEVEL</th>\n      <th>XCURSOR</th>\n      <th>YCURSOR</th>\n      <th>PLAYER</th>\n    </tr>\n    <tr>\n      <th>Frame</th>\n      <th></th>\n      <th></th>\n      <th></th>\n      <th></th>\n      <th></th>\n      <th></th>\n      <th></th>\n      <th></th>\n      <th></th>\n      <th></th>\n      <th></th>\n      <th></th>\n      <th></th>\n      <th></th>\n      <th></th>\n      <th></th>\n      <th></th>\n      <th></th>\n      <th></th>\n      <th></th>\n      <th></th>\n    </tr>\n  </thead>\n  <tbody>\n    <tr>\n      <th>0</th>\n      <td>268435466</td>\n      <td>PlayerEntity</td>\n      <td>PLAYER0</td>\n      <td>???</td>\n      <td>268435476.0</td>\n      <td>NaN</td>\n      <td>NaN</td>\n      <td>NaN</td>\n      <td>NaN</td>\n      <td>NaN</td>\n      <td>...</td>\n      <td>NaN</td>\n      <td>0.0</td>\n      <td>NaN</td>\n      <td>NaN</td>\n      <td>0.0</td>\n      <td>-599.0</td>\n      <td>0.5</td>\n      <td>175.0</td>\n      <td>266.0</td>\n      <td>268435466</td>\n    </tr>\n    <tr>\n      <th>0</th>\n      <td>268435467</td>\n      <td>PlayerEntity</td>\n      <td>PLAYER1</td>\n      <td>Ryoya</td>\n      <td>268435476.0</td>\n      <td>NaN</td>\n      <td>NaN</td>\n      <td>NaN</td>\n      <td>NaN</td>\n      <td>NaN</td>\n      <td>...</td>\n      <td>NaN</td>\n      <td>0.0</td>\n      <td>NaN</td>\n      <td>NaN</td>\n      <td>0.0</td>\n      <td>-599.0</td>\n      <td>0.5</td>\n      <td>220.0</td>\n      <td>311.0</td>\n      <td>268435467</td>\n    </tr>\n    <tr>\n      <th>0</th>\n      <td>268435468</td>\n      <td>PlayerEntity</td>\n      <td>PLAYER2</td>\n      <td>Better days</td>\n      <td>268435476.0</td>\n      <td>NaN</td>\n      <td>NaN</td>\n      <td>NaN</td>\n      <td>NaN</td>\n      <td>NaN</td>\n      <td>...</td>\n      <td>NaN</td>\n      <td>0.0</td>\n      <td>NaN</td>\n      <td>NaN</td>\n      <td>466.0</td>\n      <td>-999.0</td>\n      <td>0.5</td>\n      <td>333.0</td>\n      <td>210.0</td>\n      <td>268435468</td>\n    </tr>\n    <tr>\n      <th>0</th>\n      <td>268435469</td>\n      <td>PlayerEntity</td>\n      <td>PLAYER3</td>\n      <td>zzz</td>\n      <td>268435476.0</td>\n      <td>NaN</td>\n      <td>NaN</td>\n      <td>NaN</td>\n      <td>NaN</td>\n      <td>NaN</td>\n      <td>...</td>\n      <td>NaN</td>\n      <td>0.0</td>\n      <td>NaN</td>\n      <td>NaN</td>\n      <td>0.0</td>\n      <td>-599.0</td>\n      <td>0.5</td>\n      <td>198.0</td>\n      <td>233.0</td>\n      <td>268435469</td>\n    </tr>\n    <tr>\n      <th>0</th>\n      <td>268435470</td>\n      <td>PlayerEntity</td>\n      <td>PLAYER4</td>\n      <td>mode:zai</td>\n      <td>268435476.0</td>\n      <td>NaN</td>\n      <td>NaN</td>\n      <td>NaN</td>\n      <td>NaN</td>\n      <td>NaN</td>\n      <td>...</td>\n      <td>NaN</td>\n      <td>0.0</td>\n      <td>NaN</td>\n      <td>NaN</td>\n      <td>0.0</td>\n      <td>-1225.0</td>\n      <td>0.5</td>\n      <td>368.0</td>\n      <td>277.0</td>\n      <td>268435470</td>\n    </tr>\n    <tr>\n      <th>...</th>\n      <td>...</td>\n      <td>...</td>\n      <td>...</td>\n      <td>...</td>\n      <td>...</td>\n      <td>...</td>\n      <td>...</td>\n      <td>...</td>\n      <td>...</td>\n      <td>...</td>\n      <td>...</td>\n      <td>...</td>\n      <td>...</td>\n      <td>...</td>\n      <td>...</td>\n      <td>...</td>\n      <td>...</td>\n      <td>...</td>\n      <td>...</td>\n      <td>...</td>\n      <td>...</td>\n    </tr>\n    <tr>\n      <th>2859</th>\n      <td>268435471</td>\n      <td>PlayerEntity</td>\n      <td>PLAYER5</td>\n      <td>NaN</td>\n      <td>NaN</td>\n      <td>NaN</td>\n      <td>NaN</td>\n      <td>NaN</td>\n      <td>NaN</td>\n      <td>NaN</td>\n      <td>...</td>\n      <td>NaN</td>\n      <td>NaN</td>\n      <td>NaN</td>\n      <td>NaN</td>\n      <td>-5365.0</td>\n      <td>-4422.0</td>\n      <td>NaN</td>\n      <td>204.0</td>\n      <td>183.0</td>\n      <td>268435471</td>\n    </tr>\n    <tr>\n      <th>2859</th>\n      <td>268435472</td>\n      <td>PlayerEntity</td>\n      <td>PLAYER6</td>\n      <td>NaN</td>\n      <td>NaN</td>\n      <td>NaN</td>\n      <td>NaN</td>\n      <td>NaN</td>\n      <td>NaN</td>\n      <td>NaN</td>\n      <td>...</td>\n      <td>NaN</td>\n      <td>NaN</td>\n      <td>NaN</td>\n      <td>NaN</td>\n      <td>-5365.0</td>\n      <td>-4422.0</td>\n      <td>NaN</td>\n      <td>204.0</td>\n      <td>183.0</td>\n      <td>268435472</td>\n    </tr>\n    <tr>\n      <th>2859</th>\n      <td>268435473</td>\n      <td>PlayerEntity</td>\n      <td>PLAYER7</td>\n      <td>NaN</td>\n      <td>NaN</td>\n      <td>NaN</td>\n      <td>NaN</td>\n      <td>NaN</td>\n      <td>NaN</td>\n      <td>NaN</td>\n      <td>...</td>\n      <td>NaN</td>\n      <td>NaN</td>\n      <td>NaN</td>\n      <td>NaN</td>\n      <td>-5150.0</td>\n      <td>-4422.0</td>\n      <td>NaN</td>\n      <td>120.0</td>\n      <td>85.0</td>\n      <td>268435473</td>\n    </tr>\n    <tr>\n      <th>2859</th>\n      <td>268435474</td>\n      <td>PlayerEntity</td>\n      <td>PLAYER8</td>\n      <td>NaN</td>\n      <td>NaN</td>\n      <td>NaN</td>\n      <td>NaN</td>\n      <td>NaN</td>\n      <td>NaN</td>\n      <td>NaN</td>\n      <td>...</td>\n      <td>NaN</td>\n      <td>NaN</td>\n      <td>NaN</td>\n      <td>NaN</td>\n      <td>-5150.0</td>\n      <td>-4422.0</td>\n      <td>NaN</td>\n      <td>331.0</td>\n      <td>46.0</td>\n      <td>268435474</td>\n    </tr>\n    <tr>\n      <th>2859</th>\n      <td>268435475</td>\n      <td>PlayerEntity</td>\n      <td>PLAYER9</td>\n      <td>NaN</td>\n      <td>NaN</td>\n      <td>NaN</td>\n      <td>NaN</td>\n      <td>NaN</td>\n      <td>NaN</td>\n      <td>NaN</td>\n      <td>...</td>\n      <td>NaN</td>\n      <td>NaN</td>\n      <td>NaN</td>\n      <td>NaN</td>\n      <td>-5150.0</td>\n      <td>-4422.0</td>\n      <td>NaN</td>\n      <td>156.0</td>\n      <td>150.0</td>\n      <td>268435475</td>\n    </tr>\n  </tbody>\n</table>\n<p>701964 rows × 97 columns</p>\n</div>"
     },
     "execution_count": 199,
     "metadata": {},
     "output_type": "execute_result"
    }
   ],
   "source": [
    "dl.game_dict[\"5494646356\"].player_df"
   ],
   "metadata": {
    "collapsed": false,
    "pycharm": {
     "name": "#%%\n"
    }
   }
  },
  {
   "cell_type": "code",
   "execution_count": 200,
   "outputs": [
    {
     "data": {
      "text/plain": "ID\nPLAYER0    155.518519\nPLAYER1    148.320000\nPLAYER2    171.230769\nPLAYER3    185.875000\nPLAYER4    177.000000\nPLAYER5    189.458333\nPLAYER6    200.680000\nPLAYER7    190.769231\nPLAYER8    178.653846\nPLAYER9    173.807692\nName: GOLD, dtype: float64"
     },
     "execution_count": 200,
     "metadata": {},
     "output_type": "execute_result"
    }
   ],
   "source": [
    "dl.game_dict[\"5494646356\"].get_avg_player_gold()"
   ],
   "metadata": {
    "collapsed": false,
    "pycharm": {
     "name": "#%%\n"
    }
   }
  },
  {
   "cell_type": "code",
   "execution_count": 201,
   "outputs": [
    {
     "data": {
      "text/plain": "ID\nPLAYER0    261.555556\nPLAYER1    277.920000\nPLAYER2    255.346154\nPLAYER3    253.458333\nPLAYER4    238.111111\nPLAYER5    260.750000\nPLAYER6    244.680000\nPLAYER7    227.000000\nPLAYER8    227.000000\nPLAYER9    281.653846\nName: XP, dtype: float64"
     },
     "execution_count": 201,
     "metadata": {},
     "output_type": "execute_result"
    }
   ],
   "source": [
    "dl.game_dict[\"5494646356\"].get_avg_player_exp()"
   ],
   "metadata": {
    "collapsed": false,
    "pycharm": {
     "name": "#%%\n"
    }
   }
  },
  {
   "cell_type": "code",
   "execution_count": 202,
   "outputs": [],
   "source": [
    "current_game = dl.game_dict[\"5494646356\"]"
   ],
   "metadata": {
    "collapsed": false,
    "pycharm": {
     "name": "#%%\n"
    }
   }
  },
  {
   "cell_type": "code",
   "execution_count": 203,
   "outputs": [],
   "source": [
    "gold_df = pd.DataFrame(current_game.avg_player_gold)"
   ],
   "metadata": {
    "collapsed": false,
    "pycharm": {
     "name": "#%%\n"
    }
   }
  },
  {
   "cell_type": "code",
   "execution_count": 204,
   "outputs": [],
   "source": [
    "exp_df = pd.DataFrame(current_game.avg_player_exp)"
   ],
   "metadata": {
    "collapsed": false,
    "pycharm": {
     "name": "#%%\n"
    }
   }
  },
  {
   "cell_type": "code",
   "execution_count": 205,
   "outputs": [],
   "source": [
    "lane_df = pd.DataFrame(current_game.get_lane_percentage())"
   ],
   "metadata": {
    "collapsed": false,
    "pycharm": {
     "name": "#%%\n"
    }
   }
  },
  {
   "cell_type": "code",
   "execution_count": null,
   "outputs": [],
   "source": [],
   "metadata": {
    "collapsed": false,
    "pycharm": {
     "name": "#%%\n"
    }
   }
  },
  {
   "cell_type": "code",
   "execution_count": 220,
   "outputs": [
    {
     "data": {
      "text/plain": "                     0          1         2          3             4   \\\nID                HERO0      HERO0     HERO0      HERO0         HERO0   \nmap_position        BOT  DIRE_BASE    JUNGLE        MID  RADIANT_BASE   \ncounts            11745        138     28341      12563          3504   \nprcntg        18.413131   0.216348  44.43138  19.695544      5.493368   \n\n                     5          6          7          8          9   ...  \\\nID                HERO0      HERO1      HERO1      HERO1      HERO1  ...   \nmap_position        TOP        BOT  DIRE_BASE     JUNGLE        MID  ...   \ncounts             7495       7670        169      25846      19788  ...   \nprcntg        11.750227  11.997685   0.264356  40.429226  30.953089  ...   \n\n                     50         51            52        53         54  \\\nID                HERO8      HERO8         HERO8     HERO8      HERO9   \nmap_position     JUNGLE        MID  RADIANT_BASE       TOP        BOT   \ncounts            30535      12996           378      5622       9723   \nprcntg        47.683371  20.294517      0.590284  8.779299  15.146983   \n\n                     55         56         57            58         59  \nID                HERO9      HERO9      HERO9         HERO9      HERO9  \nmap_position  DIRE_BASE     JUNGLE        MID  RADIANT_BASE        TOP  \ncounts             2218      30192      13969           758       7331  \nprcntg         3.455313  47.034631  21.761618      1.180851  11.420604  \n\n[4 rows x 60 columns]",
      "text/html": "<div>\n<style scoped>\n    .dataframe tbody tr th:only-of-type {\n        vertical-align: middle;\n    }\n\n    .dataframe tbody tr th {\n        vertical-align: top;\n    }\n\n    .dataframe thead th {\n        text-align: right;\n    }\n</style>\n<table border=\"1\" class=\"dataframe\">\n  <thead>\n    <tr style=\"text-align: right;\">\n      <th></th>\n      <th>0</th>\n      <th>1</th>\n      <th>2</th>\n      <th>3</th>\n      <th>4</th>\n      <th>5</th>\n      <th>6</th>\n      <th>7</th>\n      <th>8</th>\n      <th>9</th>\n      <th>...</th>\n      <th>50</th>\n      <th>51</th>\n      <th>52</th>\n      <th>53</th>\n      <th>54</th>\n      <th>55</th>\n      <th>56</th>\n      <th>57</th>\n      <th>58</th>\n      <th>59</th>\n    </tr>\n  </thead>\n  <tbody>\n    <tr>\n      <th>ID</th>\n      <td>HERO0</td>\n      <td>HERO0</td>\n      <td>HERO0</td>\n      <td>HERO0</td>\n      <td>HERO0</td>\n      <td>HERO0</td>\n      <td>HERO1</td>\n      <td>HERO1</td>\n      <td>HERO1</td>\n      <td>HERO1</td>\n      <td>...</td>\n      <td>HERO8</td>\n      <td>HERO8</td>\n      <td>HERO8</td>\n      <td>HERO8</td>\n      <td>HERO9</td>\n      <td>HERO9</td>\n      <td>HERO9</td>\n      <td>HERO9</td>\n      <td>HERO9</td>\n      <td>HERO9</td>\n    </tr>\n    <tr>\n      <th>map_position</th>\n      <td>BOT</td>\n      <td>DIRE_BASE</td>\n      <td>JUNGLE</td>\n      <td>MID</td>\n      <td>RADIANT_BASE</td>\n      <td>TOP</td>\n      <td>BOT</td>\n      <td>DIRE_BASE</td>\n      <td>JUNGLE</td>\n      <td>MID</td>\n      <td>...</td>\n      <td>JUNGLE</td>\n      <td>MID</td>\n      <td>RADIANT_BASE</td>\n      <td>TOP</td>\n      <td>BOT</td>\n      <td>DIRE_BASE</td>\n      <td>JUNGLE</td>\n      <td>MID</td>\n      <td>RADIANT_BASE</td>\n      <td>TOP</td>\n    </tr>\n    <tr>\n      <th>counts</th>\n      <td>11745</td>\n      <td>138</td>\n      <td>28341</td>\n      <td>12563</td>\n      <td>3504</td>\n      <td>7495</td>\n      <td>7670</td>\n      <td>169</td>\n      <td>25846</td>\n      <td>19788</td>\n      <td>...</td>\n      <td>30535</td>\n      <td>12996</td>\n      <td>378</td>\n      <td>5622</td>\n      <td>9723</td>\n      <td>2218</td>\n      <td>30192</td>\n      <td>13969</td>\n      <td>758</td>\n      <td>7331</td>\n    </tr>\n    <tr>\n      <th>prcntg</th>\n      <td>18.413131</td>\n      <td>0.216348</td>\n      <td>44.43138</td>\n      <td>19.695544</td>\n      <td>5.493368</td>\n      <td>11.750227</td>\n      <td>11.997685</td>\n      <td>0.264356</td>\n      <td>40.429226</td>\n      <td>30.953089</td>\n      <td>...</td>\n      <td>47.683371</td>\n      <td>20.294517</td>\n      <td>0.590284</td>\n      <td>8.779299</td>\n      <td>15.146983</td>\n      <td>3.455313</td>\n      <td>47.034631</td>\n      <td>21.761618</td>\n      <td>1.180851</td>\n      <td>11.420604</td>\n    </tr>\n  </tbody>\n</table>\n<p>4 rows × 60 columns</p>\n</div>"
     },
     "execution_count": 220,
     "metadata": {},
     "output_type": "execute_result"
    }
   ],
   "source": [
    "lane_df.reset_index().T"
   ],
   "metadata": {
    "collapsed": false,
    "pycharm": {
     "name": "#%%\n"
    }
   }
  },
  {
   "cell_type": "code",
   "execution_count": 221,
   "outputs": [
    {
     "data": {
      "text/plain": "               GOLD          XP\nID                             \nPLAYER0  155.518519  261.555556\nPLAYER1  148.320000  277.920000\nPLAYER2  171.230769  255.346154\nPLAYER3  185.875000  253.458333\nPLAYER4  177.000000  238.111111\nPLAYER5  189.458333  260.750000\nPLAYER6  200.680000  244.680000\nPLAYER7  190.769231  227.000000\nPLAYER8  178.653846  227.000000\nPLAYER9  173.807692  281.653846",
      "text/html": "<div>\n<style scoped>\n    .dataframe tbody tr th:only-of-type {\n        vertical-align: middle;\n    }\n\n    .dataframe tbody tr th {\n        vertical-align: top;\n    }\n\n    .dataframe thead th {\n        text-align: right;\n    }\n</style>\n<table border=\"1\" class=\"dataframe\">\n  <thead>\n    <tr style=\"text-align: right;\">\n      <th></th>\n      <th>GOLD</th>\n      <th>XP</th>\n    </tr>\n    <tr>\n      <th>ID</th>\n      <th></th>\n      <th></th>\n    </tr>\n  </thead>\n  <tbody>\n    <tr>\n      <th>PLAYER0</th>\n      <td>155.518519</td>\n      <td>261.555556</td>\n    </tr>\n    <tr>\n      <th>PLAYER1</th>\n      <td>148.320000</td>\n      <td>277.920000</td>\n    </tr>\n    <tr>\n      <th>PLAYER2</th>\n      <td>171.230769</td>\n      <td>255.346154</td>\n    </tr>\n    <tr>\n      <th>PLAYER3</th>\n      <td>185.875000</td>\n      <td>253.458333</td>\n    </tr>\n    <tr>\n      <th>PLAYER4</th>\n      <td>177.000000</td>\n      <td>238.111111</td>\n    </tr>\n    <tr>\n      <th>PLAYER5</th>\n      <td>189.458333</td>\n      <td>260.750000</td>\n    </tr>\n    <tr>\n      <th>PLAYER6</th>\n      <td>200.680000</td>\n      <td>244.680000</td>\n    </tr>\n    <tr>\n      <th>PLAYER7</th>\n      <td>190.769231</td>\n      <td>227.000000</td>\n    </tr>\n    <tr>\n      <th>PLAYER8</th>\n      <td>178.653846</td>\n      <td>227.000000</td>\n    </tr>\n    <tr>\n      <th>PLAYER9</th>\n      <td>173.807692</td>\n      <td>281.653846</td>\n    </tr>\n  </tbody>\n</table>\n</div>"
     },
     "execution_count": 221,
     "metadata": {},
     "output_type": "execute_result"
    }
   ],
   "source": [
    "pd.concat([gold_df,exp_df],axis=1)"
   ],
   "metadata": {
    "collapsed": false,
    "pycharm": {
     "name": "#%%\n"
    }
   }
  }
 ],
 "metadata": {
  "kernelspec": {
   "display_name": "Python 3",
   "language": "python",
   "name": "python3"
  },
  "language_info": {
   "codemirror_mode": {
    "name": "ipython",
    "version": 2
   },
   "file_extension": ".py",
   "mimetype": "text/x-python",
   "name": "python",
   "nbconvert_exporter": "python",
   "pygments_lexer": "ipython2",
   "version": "2.7.6"
  }
 },
 "nbformat": 4,
 "nbformat_minor": 0
}